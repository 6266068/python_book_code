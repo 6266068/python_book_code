{
 "cells": [
  {
   "cell_type": "code",
   "execution_count": 9,
   "metadata": {},
   "outputs": [
    {
     "name": "stdout",
     "output_type": "stream",
     "text": [
      "请输入一个整数：3\n",
      "请输入一个整数：35\n",
      "627\n",
      "36\n"
     ]
    }
   ],
   "source": [
    "sum = 0\n",
    "m = int(input(\"请输入一个整数：\"))\n",
    "n = int(input(\"请输入一个整数：\"))\n",
    "i= m\n",
    "while i<=n:\n",
    "   sum+=i  # sum = sum+i\n",
    "   i+=1  # i = i+1\n",
    "print(sum)\n",
    "print(i)"
   ]
  },
  {
   "cell_type": "code",
   "execution_count": 31,
   "metadata": {},
   "outputs": [
    {
     "name": "stdout",
     "output_type": "stream",
     "text": [
      "9\n",
      "28.88888888888889\n"
     ]
    }
   ],
   "source": [
    "ages = [19,23, 56,9 ,37 ,54,19,25,18]\n",
    "sum = 0\n",
    "i = 0\n",
    "print(len(ages))\n",
    "while i<len(ages):\n",
    "    sum += ages[i]\n",
    "    i+=1\n",
    "\n",
    "print(sum/9)"
   ]
  },
  {
   "cell_type": "code",
   "execution_count": 1,
   "metadata": {},
   "outputs": [
    {
     "name": "stdout",
     "output_type": "stream",
     "text": [
      "盈利： 517.5\n",
      "欠债： -131.4\n"
     ]
    }
   ],
   "source": [
    "a = [34.5,56,7,-23.4,-100,400,20,-8]\n",
    "b = 0\n",
    "c = 0\n",
    "i = 0\n",
    "while i<len(a):\n",
    "    if a[i]>=0:\n",
    "        b += a[i]\n",
    "    else:\n",
    "        c +=a[i]\n",
    "    i+=1 \n",
    "        \n",
    "print(\"盈利：\",b)\n",
    "print(\"欠债：\",c)"
   ]
  },
  {
   "cell_type": "markdown",
   "metadata": {},
   "source": [
    "### break"
   ]
  },
  {
   "cell_type": "code",
   "execution_count": 3,
   "metadata": {},
   "outputs": [
    {
     "name": "stdout",
     "output_type": "stream",
     "text": [
      "请输入一个学生的分数：34.5\n",
      "请输入一个学生的分数：67.5\n",
      "请输入一个学生的分数：78.5\n",
      "请输入一个学生的分数：12.5\n",
      "请输入一个学生的分数：90.4\n",
      "请输入一个学生的分数：96.4\n",
      "请输入一个学生的分数：80.4\n",
      "请输入一个学生的分数：73.2\n",
      "请输入一个学生的分数：-1\n",
      "66.675\n"
     ]
    }
   ],
   "source": [
    "all_score = 0\n",
    "i = 0\n",
    "while True:\n",
    "    score =float(input(\"请输入一个学生的分数：\"))\n",
    "    if score<0:\n",
    "        break\n",
    "    all_score +=score\n",
    "    i+=1\n",
    "\n",
    "print(all_score/i)"
   ]
  },
  {
   "cell_type": "code",
   "execution_count": null,
   "metadata": {},
   "outputs": [],
   "source": []
  }
 ],
 "metadata": {
  "kernelspec": {
   "display_name": "Python 3",
   "language": "python",
   "name": "python3"
  },
  "language_info": {
   "codemirror_mode": {
    "name": "ipython",
    "version": 3
   },
   "file_extension": ".py",
   "mimetype": "text/x-python",
   "name": "python",
   "nbconvert_exporter": "python",
   "pygments_lexer": "ipython3",
   "version": "3.7.1"
  }
 },
 "nbformat": 4,
 "nbformat_minor": 2
}
