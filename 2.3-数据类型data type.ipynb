{
 "cells": [
  {
   "cell_type": "markdown",
   "metadata": {},
   "source": [
    "### 主要有：\n",
    "* 数值(Number)： int(整数)、float（浮点数）、complex（复数）、bool（布尔）\n",
    "* 列表(list)\n",
    "* 元组(tuple)\n",
    "* 字符串(str)\n",
    "* 集合(set)\n",
    "* 字典(dict)"
   ]
  },
  {
   "cell_type": "markdown",
   "metadata": {},
   "source": [
    "#### 数值(Number): int、float、complex、bool"
   ]
  },
  {
   "cell_type": "code",
   "execution_count": 35,
   "metadata": {},
   "outputs": [
    {
     "data": {
      "text/plain": [
       "float"
      ]
     },
     "execution_count": 35,
     "metadata": {},
     "output_type": "execute_result"
    }
   ],
   "source": [
    "type(2+3.14)"
   ]
  },
  {
   "cell_type": "code",
   "execution_count": 36,
   "metadata": {},
   "outputs": [
    {
     "data": {
      "text/plain": [
       "bool"
      ]
     },
     "execution_count": 36,
     "metadata": {},
     "output_type": "execute_result"
    }
   ],
   "source": [
    "type(True)"
   ]
  },
  {
   "cell_type": "code",
   "execution_count": 37,
   "metadata": {},
   "outputs": [
    {
     "data": {
      "text/plain": [
       "bool"
      ]
     },
     "execution_count": 37,
     "metadata": {},
     "output_type": "execute_result"
    }
   ],
   "source": [
    "type(False)"
   ]
  },
  {
   "cell_type": "code",
   "execution_count": 38,
   "metadata": {
    "scrolled": true
   },
   "outputs": [
    {
     "data": {
      "text/plain": [
       "complex"
      ]
     },
     "execution_count": 38,
     "metadata": {},
     "output_type": "execute_result"
    }
   ],
   "source": [
    "type(2+3j)"
   ]
  },
  {
   "cell_type": "markdown",
   "metadata": {},
   "source": [
    "### 列表：list"
   ]
  },
  {
   "cell_type": "code",
   "execution_count": 39,
   "metadata": {},
   "outputs": [
    {
     "data": {
      "text/plain": [
       "list"
      ]
     },
     "execution_count": 39,
     "metadata": {},
     "output_type": "execute_result"
    }
   ],
   "source": [
    "[1,2,3]\n",
    "type([1,2,3])"
   ]
  },
  {
   "cell_type": "code",
   "execution_count": 40,
   "metadata": {},
   "outputs": [
    {
     "data": {
      "text/plain": [
       "[2, 3.14, 'python']"
      ]
     },
     "execution_count": 40,
     "metadata": {},
     "output_type": "execute_result"
    }
   ],
   "source": [
    "#list中的数据元素可以是不同的类型\n",
    "[2, 3.14, 'python']"
   ]
  },
  {
   "cell_type": "code",
   "execution_count": 41,
   "metadata": {},
   "outputs": [
    {
     "data": {
      "text/plain": [
       "[2, 3.14, True, [3, 6, 9], 'python']"
      ]
     },
     "execution_count": 41,
     "metadata": {},
     "output_type": "execute_result"
    }
   ],
   "source": [
    "# list中的元素的类型是任意的，当然可以包含其他的list对象，如：\n",
    "[2, 3.14,True,[3,6,9],'python']"
   ]
  },
  {
   "cell_type": "code",
   "execution_count": 42,
   "metadata": {},
   "outputs": [
    {
     "name": "stdout",
     "output_type": "stream",
     "text": [
      "<class 'list'>\n",
      "[2, 3.14, True, [3, 6, 9], 'python']\n",
      "2\n",
      "[3, 6, 9]\n"
     ]
    }
   ],
   "source": [
    "#可以用“下标运算符[]”去访问它的m某个元素或一系列连续的元素。\n",
    "my_list =[2, 3.14,True,[3,6,9],'python']\n",
    "print(type(my_list))  #打印my_list的类型，即list类型\n",
    "print(my_list)\n",
    "print(my_list[0])\n",
    "print(my_list[3])"
   ]
  },
  {
   "cell_type": "code",
   "execution_count": 43,
   "metadata": {},
   "outputs": [
    {
     "name": "stdout",
     "output_type": "stream",
     "text": [
      "[3.14, True, [3, 6, 9]]\n",
      "[True, [3, 6, 9], 'python']\n",
      "[2, 3.14, True, [3, 6, 9]]\n",
      "[2, 3.14, True, [3, 6, 9], 'python']\n"
     ]
    }
   ],
   "source": [
    "#向下标运算符[ ]传递起始和结束位置的2个下标，\n",
    "# 返回连续多个元素组成的子列表(不包含结束位置的元素)。\n",
    "#格式是： list[start:end]\n",
    "print(my_list[1:4])  #从第2个到第5个，不包含第5个\n",
    "print(my_list[2:])   #起始下标为2，没有结束下标，表示从起始下标之后的所有元素\n",
    "print(my_list[:4])   #没有起始下标，表示起始下标默认为0\n",
    "print(my_list[:])    #没有起始和结束下标，表示所有元素"
   ]
  },
  {
   "cell_type": "code",
   "execution_count": 44,
   "metadata": {},
   "outputs": [
    {
     "name": "stdout",
     "output_type": "stream",
     "text": [
      "[2, 3.14, True, [3, 6, 9], 'hw-dong']\n",
      "[[3, 6, 9]]\n",
      "[2, 3.14, True, 512, 'hi', 2.89]\n"
     ]
    }
   ],
   "source": [
    "# 下标也可以是负数，最后一个元素的下标是-1\n",
    "my_list[-1] = \"hw-dong\"       #最后一个元素修改为\"hw-dong\"\n",
    "print(my_list)\n",
    "print(my_list[-2:-1])         #打印倒数第二个元素\n",
    "my_list[-2:] = [512,'hi',2.89]     #倒数第二个元素后的序列用列表[3,6,'hi']替换\n",
    "print(my_list)"
   ]
  },
  {
   "cell_type": "code",
   "execution_count": 45,
   "metadata": {},
   "outputs": [
    {
     "ename": "IndexError",
     "evalue": "list index out of range",
     "output_type": "error",
     "traceback": [
      "\u001b[1;31m---------------------------------------------------------------------------\u001b[0m",
      "\u001b[1;31mIndexError\u001b[0m                                Traceback (most recent call last)",
      "\u001b[1;32m<ipython-input-45-b15cebd3649f>\u001b[0m in \u001b[0;36m<module>\u001b[1;34m\u001b[0m\n\u001b[0;32m      1\u001b[0m \u001b[1;31m#下标超出范围的访问都是错误的：\u001b[0m\u001b[1;33m\u001b[0m\u001b[1;33m\u001b[0m\u001b[1;33m\u001b[0m\u001b[0m\n\u001b[0;32m      2\u001b[0m \u001b[1;31m#print(my_list[7])\u001b[0m\u001b[1;33m\u001b[0m\u001b[1;33m\u001b[0m\u001b[1;33m\u001b[0m\u001b[0m\n\u001b[1;32m----> 3\u001b[1;33m \u001b[0mprint\u001b[0m\u001b[1;33m(\u001b[0m\u001b[0mmy_list\u001b[0m\u001b[1;33m[\u001b[0m\u001b[1;33m-\u001b[0m\u001b[1;36m8\u001b[0m\u001b[1;33m]\u001b[0m\u001b[1;33m)\u001b[0m\u001b[1;33m\u001b[0m\u001b[1;33m\u001b[0m\u001b[0m\n\u001b[0m",
      "\u001b[1;31mIndexError\u001b[0m: list index out of range"
     ]
    }
   ],
   "source": [
    "#下标超出范围的访问都是错误的：\n",
    "#print(my_list[7])\n",
    "print(my_list[-8])"
   ]
  },
  {
   "cell_type": "markdown",
   "metadata": {},
   "source": [
    "### list对象是可以修改的，即修改其中的某个或多个元素。"
   ]
  },
  {
   "cell_type": "code",
   "execution_count": null,
   "metadata": {
    "scrolled": true
   },
   "outputs": [],
   "source": [
    "# 可以通过下标去修改list的某个元素\n",
    "my_list[4]='c++'\n",
    "print(my_list)"
   ]
  },
  {
   "cell_type": "code",
   "execution_count": null,
   "metadata": {},
   "outputs": [],
   "source": [
    "#给一个范围赋值，替换为另一个list：\n",
    "my_list[1:4]=[10,25]  \n",
    "print(my_list)"
   ]
  },
  {
   "cell_type": "code",
   "execution_count": null,
   "metadata": {},
   "outputs": [],
   "source": [
    "my_list[2:4]=[]      #相当于删除了[2:4]之间的元素，不包括下标4的元素\n",
    "print(my_list)"
   ]
  },
  {
   "cell_type": "code",
   "execution_count": null,
   "metadata": {},
   "outputs": [],
   "source": [
    "#必须给一个范围赋值一个list对象，赋值非list对象，会出错：\n",
    "my_list[1:3]= 5"
   ]
  },
  {
   "cell_type": "markdown",
   "metadata": {},
   "source": [
    "#### 可以通过函数len()查询一个 list对象的元素个数"
   ]
  },
  {
   "cell_type": "code",
   "execution_count": null,
   "metadata": {},
   "outputs": [],
   "source": [
    "alist = [2, 3.14, 'python']\n",
    "print(len(alist))"
   ]
  },
  {
   "cell_type": "markdown",
   "metadata": {},
   "source": [
    "#### 可以用+将2个list对象合并为一个更大的list对象，如："
   ]
  },
  {
   "cell_type": "code",
   "execution_count": null,
   "metadata": {},
   "outputs": [],
   "source": [
    "blist = [\"world\",[5,6,7]]\n",
    "c = alist+blist\n",
    "print(c)"
   ]
  },
  {
   "cell_type": "markdown",
   "metadata": {},
   "source": [
    "### 元组：tuple"
   ]
  },
  {
   "cell_type": "code",
   "execution_count": null,
   "metadata": {},
   "outputs": [],
   "source": [
    "t = ('python',[2,5],37,3.14,\"https://a.hwdong.com\")\n",
    "print(type(t))"
   ]
  },
  {
   "cell_type": "code",
   "execution_count": null,
   "metadata": {},
   "outputs": [],
   "source": [
    "#用下标运算符[]访问tuple的元素\n",
    "print(t[2])\n",
    "print(t[0:3])\n",
    "print(t[:4])    #前面4个元素\n",
    "print(t[-4:])   #后面4个元素"
   ]
  },
  {
   "cell_type": "code",
   "execution_count": null,
   "metadata": {
    "scrolled": true
   },
   "outputs": [],
   "source": [
    "t[1] = 'helo' "
   ]
  },
  {
   "cell_type": "code",
   "execution_count": null,
   "metadata": {},
   "outputs": [],
   "source": [
    "print(type((25,)))\n",
    "print(type((25)))"
   ]
  },
  {
   "cell_type": "markdown",
   "metadata": {},
   "source": [
    "### 集合:set"
   ]
  },
  {
   "cell_type": "code",
   "execution_count": null,
   "metadata": {},
   "outputs": [],
   "source": [
    "s = {5,3.14,2,'python',8}\n",
    "print(type(s))\n",
    "print(s)"
   ]
  },
  {
   "cell_type": "code",
   "execution_count": null,
   "metadata": {},
   "outputs": [],
   "source": [
    "s[0]"
   ]
  },
  {
   "cell_type": "code",
   "execution_count": null,
   "metadata": {},
   "outputs": [],
   "source": [
    "#set中不能有相同值的元素：\n",
    "s = {1,2,2,3,3,3}\n",
    "print(s)"
   ]
  },
  {
   "cell_type": "code",
   "execution_count": null,
   "metadata": {},
   "outputs": [],
   "source": [
    "s = {2,3,[5,8]}    #list是一个无法哈希的数据类型"
   ]
  },
  {
   "cell_type": "markdown",
   "metadata": {},
   "source": [
    "### 字典:dict"
   ]
  },
  {
   "cell_type": "code",
   "execution_count": null,
   "metadata": {},
   "outputs": [],
   "source": [
    "d = {1:'value', 'key':2, 'hello': [4,7]}\n",
    "print(type(d))\n",
    "print(d)"
   ]
  },
  {
   "cell_type": "code",
   "execution_count": null,
   "metadata": {},
   "outputs": [],
   "source": [
    "#需要通过key(键，也称为关键字)才能访问dict中这个key对应元素的值value。如：\n",
    "d['hello']"
   ]
  },
  {
   "cell_type": "code",
   "execution_count": null,
   "metadata": {},
   "outputs": [],
   "source": [
    "d[1]"
   ]
  },
  {
   "cell_type": "code",
   "execution_count": null,
   "metadata": {},
   "outputs": [],
   "source": [
    "# 如果一个key对应的元素不存在，通过这个key访问元素是非法的，如：\n",
    "d[3]"
   ]
  },
  {
   "cell_type": "code",
   "execution_count": null,
   "metadata": {},
   "outputs": [],
   "source": [
    "d[3] = \"python\"\n",
    "print(d)\n",
    "print(d[3])"
   ]
  },
  {
   "cell_type": "code",
   "execution_count": null,
   "metadata": {},
   "outputs": [],
   "source": [
    "#定义一个表示学生信息并以名字作为关键字的dict对象\n",
    "students={\"LiPing\":[21,\"计科01\",15370203152],\"ZhangWei\":[20,\"计科02\",17331203312]\n",
    "         ,\"ZhaoSi\":[22,\"机械03\",16908092516]}\n",
    "print(students)"
   ]
  },
  {
   "cell_type": "code",
   "execution_count": null,
   "metadata": {},
   "outputs": [],
   "source": [
    "# 根据键访问其对应元素的值（value）\n",
    "print(students[\"ZhangWei\"])"
   ]
  },
  {
   "cell_type": "markdown",
   "metadata": {},
   "source": [
    "### 字符串:str\n",
    "\n",
    "#### 1.\t字符串（str）的表示"
   ]
  },
  {
   "cell_type": "code",
   "execution_count": null,
   "metadata": {},
   "outputs": [],
   "source": [
    "type(\"hello world\")"
   ]
  },
  {
   "cell_type": "code",
   "execution_count": null,
   "metadata": {},
   "outputs": [],
   "source": [
    "#双引号包围的字符串中可以包含单引号，但不能包含双引号。\n",
    "#反之，单引号包围的字符串中可以包含双引号，但不能包含单引号。\n",
    "print(\"my name is 'hw-dong'\")\n",
    "print('my name is \"hw-dong\"')"
   ]
  },
  {
   "cell_type": "code",
   "execution_count": null,
   "metadata": {},
   "outputs": [],
   "source": [
    "print(\"my name is \"hw-dong'\")"
   ]
  },
  {
   "cell_type": "code",
   "execution_count": null,
   "metadata": {},
   "outputs": [],
   "source": [
    "#还可以首尾分别要用3个单引号或双引号包围来表示字符串，其中的字符串甚至可以写在多个行。\n",
    "print(\"\"\"my name is \"hw-dong'\"\"\")\n",
    "print('''my name is \"hw-dong\"''')\n",
    "print(''' '教小白精通编程博客'的网址\n",
    "https://a.hwdong.com\n",
    "各种编程语言如python、C++\n",
    "''')"
   ]
  },
  {
   "cell_type": "code",
   "execution_count": null,
   "metadata": {},
   "outputs": [],
   "source": [
    "#最后的4个单引号到底是'和'''，还是'''和'\n",
    "print('''my name is \"hw-dong'''')"
   ]
  },
  {
   "cell_type": "markdown",
   "metadata": {},
   "source": [
    "#### 2.\t转义字符\n",
    "\n",
    "用反斜杠字符的转移字符序列表示特殊的字符。"
   ]
  },
  {
   "cell_type": "code",
   "execution_count": null,
   "metadata": {},
   "outputs": [],
   "source": [
    "print(\"my name is \\\"hw-dong\\\"\")\n",
    "print('my name is \\'hw-dong\\'')\n",
    "print(len('my name is \\'hw-dong\\''))"
   ]
  },
  {
   "cell_type": "code",
   "execution_count": 46,
   "metadata": {},
   "outputs": [
    {
     "name": "stdout",
     "output_type": "stream",
     "text": [
      "hello \\\n"
     ]
    }
   ],
   "source": [
    "print('hello \\\\') "
   ]
  },
  {
   "cell_type": "code",
   "execution_count": 47,
   "metadata": {},
   "outputs": [
    {
     "name": "stdout",
     "output_type": "stream",
     "text": [
      "hello\tworld\n",
      "\n",
      "ok\n"
     ]
    }
   ],
   "source": [
    "#\\t表示“制表符”、\\n表示“换行符”\n",
    "# print()函数在遇到这些字符时会执行特定的动作，比如对于制表符\\t，就输出固定个数的空格，对于换行符\\n就换到新的一行\n",
    "print('hello\\tworld\\n') \n",
    "print('ok')"
   ]
  },
  {
   "cell_type": "markdown",
   "metadata": {},
   "source": [
    "#### 3. 字符串的切片\n",
    "同样可以用下标运算符[]访问字符串的1个或多个连续字符。"
   ]
  },
  {
   "cell_type": "code",
   "execution_count": 48,
   "metadata": {},
   "outputs": [
    {
     "name": "stdout",
     "output_type": "stream",
     "text": [
      "h\n",
      "ython pr\n",
      "ammin\n"
     ]
    }
   ],
   "source": [
    "\n",
    "s = 'python programming'\n",
    "print(s[3])\n",
    "print(s[1:9])\n",
    "print(s[-6:-1])"
   ]
  },
  {
   "cell_type": "markdown",
   "metadata": {},
   "source": [
    "#### 4.\tstr对象是不可被修改的"
   ]
  },
  {
   "cell_type": "code",
   "execution_count": 49,
   "metadata": {},
   "outputs": [
    {
     "ename": "TypeError",
     "evalue": "'str' object does not support item assignment",
     "output_type": "error",
     "traceback": [
      "\u001b[1;31m---------------------------------------------------------------------------\u001b[0m",
      "\u001b[1;31mTypeError\u001b[0m                                 Traceback (most recent call last)",
      "\u001b[1;32m<ipython-input-49-e362a8db549a>\u001b[0m in \u001b[0;36m<module>\u001b[1;34m\u001b[0m\n\u001b[0;32m      1\u001b[0m \u001b[0ms\u001b[0m  \u001b[1;33m=\u001b[0m \u001b[1;34m'hello world'\u001b[0m\u001b[1;33m\u001b[0m\u001b[1;33m\u001b[0m\u001b[0m\n\u001b[1;32m----> 2\u001b[1;33m \u001b[0ms\u001b[0m\u001b[1;33m[\u001b[0m\u001b[1;36m1\u001b[0m\u001b[1;33m]\u001b[0m \u001b[1;33m=\u001b[0m \u001b[1;34m'E'\u001b[0m\u001b[1;33m\u001b[0m\u001b[1;33m\u001b[0m\u001b[0m\n\u001b[0m\u001b[0;32m      3\u001b[0m \u001b[1;31m#产生“字符串对象不支持赋值”的TypeError（类型错误）：\u001b[0m\u001b[1;33m\u001b[0m\u001b[1;33m\u001b[0m\u001b[1;33m\u001b[0m\u001b[0m\n",
      "\u001b[1;31mTypeError\u001b[0m: 'str' object does not support item assignment"
     ]
    }
   ],
   "source": [
    "s  = 'hello world'\n",
    "s[1] = 'E'      \n",
    "#产生“字符串对象不支持赋值”的TypeError（类型错误）：\n"
   ]
  },
  {
   "cell_type": "code",
   "execution_count": null,
   "metadata": {},
   "outputs": [],
   "source": []
  }
 ],
 "metadata": {
  "kernelspec": {
   "display_name": "Python 3",
   "language": "python",
   "name": "python3"
  },
  "language_info": {
   "codemirror_mode": {
    "name": "ipython",
    "version": 3
   },
   "file_extension": ".py",
   "mimetype": "text/x-python",
   "name": "python",
   "nbconvert_exporter": "python",
   "pygments_lexer": "ipython3",
   "version": "3.6.8"
  }
 },
 "nbformat": 4,
 "nbformat_minor": 2
}
