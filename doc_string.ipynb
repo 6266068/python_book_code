{
 "cells": [
  {
   "cell_type": "code",
   "execution_count": 2,
   "metadata": {},
   "outputs": [
    {
     "name": "stdout",
     "output_type": "stream",
     "text": [
      "hello Wang\n",
      "Help on function hello in module __main__:\n",
      "\n",
      "hello(name)\n",
      "    这是一个doc string的例子\n",
      "    该函数打印一个“hello，人名”字符串\n",
      "\n"
     ]
    }
   ],
   "source": [
    "def hello(name):\n",
    "    '''\n",
    "     这是一个doc string的例子\n",
    "     该函数打印一个“hello，人名”字符串\n",
    "    '''    \n",
    "    print(\"hello\",name)\n",
    "\n",
    "hello(\"Wang\")\n",
    "#help(hello)\n",
    "print(hello.__doc)\n",
    "   "
   ]
  },
  {
   "cell_type": "code",
   "execution_count": null,
   "metadata": {},
   "outputs": [],
   "source": []
  }
 ],
 "metadata": {
  "kernelspec": {
   "display_name": "Python 3",
   "language": "python",
   "name": "python3"
  },
  "language_info": {
   "codemirror_mode": {
    "name": "ipython",
    "version": 3
   },
   "file_extension": ".py",
   "mimetype": "text/x-python",
   "name": "python",
   "nbconvert_exporter": "python",
   "pygments_lexer": "ipython3",
   "version": "3.7.1"
  }
 },
 "nbformat": 4,
 "nbformat_minor": 2
}
