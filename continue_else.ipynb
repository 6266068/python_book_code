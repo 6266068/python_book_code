{
 "cells": [
  {
   "cell_type": "code",
   "execution_count": 2,
   "metadata": {},
   "outputs": [
    {
     "name": "stdout",
     "output_type": "stream",
     "text": [
      "1 3 5 7 9 11 13 15 17 19 21 23 25 "
     ]
    }
   ],
   "source": [
    "for e in range(1,26):\n",
    "    if e%2==0:\n",
    "        continue\n",
    "    print(e,end= ' ')"
   ]
  },
  {
   "cell_type": "code",
   "execution_count": 2,
   "metadata": {},
   "outputs": [
    {
     "name": "stdout",
     "output_type": "stream",
     "text": [
      "1 3 5 7 9 11 13 15 17 19 21 23 25 "
     ]
    }
   ],
   "source": [
    "e=0\n",
    "while e<26:\n",
    "    e +=1\n",
    "    if e%2==0:\n",
    "        continue\n",
    "    print(e,end= ' ')\n",
    "    "
   ]
  },
  {
   "cell_type": "code",
   "execution_count": 8,
   "metadata": {},
   "outputs": [
    {
     "name": "stdout",
     "output_type": "stream",
     "text": [
      "所有成绩的平均值是 52.214285714285715\n"
     ]
    }
   ],
   "source": [
    "scores = [68.5,36,5, 29, 78,56,93]\n",
    "sum = 0 ;\n",
    "i = 0\n",
    "for e in scores:\n",
    "    if e<0: \n",
    "        break\n",
    "    sum += e\n",
    "    i+=1\n",
    "else: \n",
    "    print(\"所有成绩的平均值是\",sum/i)"
   ]
  },
  {
   "cell_type": "code",
   "execution_count": 11,
   "metadata": {},
   "outputs": [],
   "source": [
    "scores = [68.5,36,5, 29, 78,56,93]\n",
    "sum = 0 ;\n",
    "i = 0\n",
    "for e in scores:\n",
    "    pass  ##空语句，起到一个“占位符”"
   ]
  },
  {
   "cell_type": "code",
   "execution_count": null,
   "metadata": {},
   "outputs": [],
   "source": []
  }
 ],
 "metadata": {
  "kernelspec": {
   "display_name": "Python 3",
   "language": "python",
   "name": "python3"
  },
  "language_info": {
   "codemirror_mode": {
    "name": "ipython",
    "version": 3
   },
   "file_extension": ".py",
   "mimetype": "text/x-python",
   "name": "python",
   "nbconvert_exporter": "python",
   "pygments_lexer": "ipython3",
   "version": "3.7.1"
  }
 },
 "nbformat": 4,
 "nbformat_minor": 2
}
