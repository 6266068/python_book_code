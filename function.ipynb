{
 "cells": [
  {
   "cell_type": "code",
   "execution_count": 11,
   "metadata": {},
   "outputs": [
    {
     "name": "stdout",
     "output_type": "stream",
     "text": [
      "hello\n",
      "Wang\n",
      "你的年龄是： 23\n",
      "hello\n",
      "Li\n",
      "你的年龄是： 21\n"
     ]
    }
   ],
   "source": [
    "def hello(name,age): #形式参数\n",
    "  print(\"hello\")\n",
    "  print(name)\n",
    "  print(\"你的年龄是：\",age)\n",
    "\n",
    "hello(\"Wang\",23) #调用函数\n",
    "hello(\"Li\",21)"
   ]
  },
  {
   "cell_type": "code",
   "execution_count": 13,
   "metadata": {},
   "outputs": [
    {
     "name": "stdout",
     "output_type": "stream",
     "text": [
      "1578944656\n",
      "1578944656\n",
      "1578944704\n",
      "5\n",
      "2\n"
     ]
    }
   ],
   "source": [
    "def print_x(x):\n",
    "    print(id(x))\n",
    "    x+=3  # x = x+3\n",
    "    print(id(x))\n",
    "    print(x)\n",
    "\n",
    "y = 2\n",
    "print(id(y))\n",
    "print_x(y) # x=y\n",
    "print(y)"
   ]
  },
  {
   "cell_type": "code",
   "execution_count": null,
   "metadata": {},
   "outputs": [],
   "source": []
  }
 ],
 "metadata": {
  "kernelspec": {
   "display_name": "Python 3",
   "language": "python",
   "name": "python3"
  },
  "language_info": {
   "codemirror_mode": {
    "name": "ipython",
    "version": 3
   },
   "file_extension": ".py",
   "mimetype": "text/x-python",
   "name": "python",
   "nbconvert_exporter": "python",
   "pygments_lexer": "ipython3",
   "version": "3.7.1"
  }
 },
 "nbformat": 4,
 "nbformat_minor": 2
}
