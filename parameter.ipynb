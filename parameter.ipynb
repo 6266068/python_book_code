{
 "cells": [
  {
   "cell_type": "code",
   "execution_count": 1,
   "metadata": {},
   "outputs": [],
   "source": [
    "def hello(name,msg):\n",
    "    print(\"hello\",name,msg)"
   ]
  },
  {
   "cell_type": "code",
   "execution_count": 3,
   "metadata": {},
   "outputs": [
    {
     "name": "stdout",
     "output_type": "stream",
     "text": [
      "hello 李平 早上好\n"
     ]
    }
   ],
   "source": [
    "hello(\"李平\",msg=\"早上好\")"
   ]
  },
  {
   "cell_type": "code",
   "execution_count": 6,
   "metadata": {},
   "outputs": [
    {
     "name": "stdout",
     "output_type": "stream",
     "text": [
      "hello 李平 早上好\n",
      "hello 李平 早上好\n"
     ]
    }
   ],
   "source": [
    "hello(msg=\"早上好\",name = \"李平\")\n",
    "hello(name = \"李平\",msg=\"早上好\")"
   ]
  },
  {
   "cell_type": "code",
   "execution_count": 52,
   "metadata": {
    "scrolled": true
   },
   "outputs": [
    {
     "name": "stdout",
     "output_type": "stream",
     "text": [
      "2018 - 01 - 01\n"
     ]
    }
   ],
   "source": [
    "def date(year,month=\"01\",day= \"01\"):\n",
    "    print(year,\"-\",month,\"-\",day)\n",
    "    \n",
    "date(2018)"
   ]
  },
  {
   "cell_type": "code",
   "execution_count": 53,
   "metadata": {},
   "outputs": [
    {
     "name": "stdout",
     "output_type": "stream",
     "text": [
      "2018 - 05 - 01\n"
     ]
    }
   ],
   "source": [
    "date(2018,\"05\")"
   ]
  },
  {
   "cell_type": "code",
   "execution_count": 54,
   "metadata": {},
   "outputs": [
    {
     "name": "stdout",
     "output_type": "stream",
     "text": [
      "2018 - 05 - 04\n"
     ]
    }
   ],
   "source": [
    "date(2018,\"05\",\"04\")"
   ]
  },
  {
   "cell_type": "code",
   "execution_count": 57,
   "metadata": {},
   "outputs": [
    {
     "name": "stdout",
     "output_type": "stream",
     "text": [
      "2018 - 04 - 05\n"
     ]
    }
   ],
   "source": [
    "date(day = \"05\",month = \"04\",year = 2018)"
   ]
  },
  {
   "cell_type": "code",
   "execution_count": 67,
   "metadata": {},
   "outputs": [
    {
     "name": "stdout",
     "output_type": "stream",
     "text": [
      "7379744\n",
      "[1]\n",
      "7379944\n",
      "[2]\n"
     ]
    }
   ],
   "source": [
    "def f(var):\n",
    "    arr = []\n",
    "    arr.append(var)\n",
    "    print(id(arr))\n",
    "    return arr;\n",
    "\n",
    "print(f(1))\n",
    "print(f(2))"
   ]
  },
  {
   "cell_type": "code",
   "execution_count": 2,
   "metadata": {},
   "outputs": [
    {
     "name": "stdout",
     "output_type": "stream",
     "text": [
      "1\n",
      "9\n"
     ]
    }
   ],
   "source": [
    "def Sum(*nums): \n",
    "    sum = 0\n",
    "    i = 0\n",
    "    while i<len(nums):\n",
    "        sum +=nums[i]\n",
    "        i+=1\n",
    "    return sum\n",
    "\n",
    "print(Sum(1))\n",
    "print(Sum(1,3,5))"
   ]
  },
  {
   "cell_type": "code",
   "execution_count": 11,
   "metadata": {
    "scrolled": true
   },
   "outputs": [
    {
     "name": "stdout",
     "output_type": "stream",
     "text": [
      "zhang 23\n",
      "wang 45\n",
      "li 17\n"
     ]
    }
   ],
   "source": [
    "def f(**people):\n",
    "    for key in people:\n",
    "        print(key,people[key])\n",
    "\n",
    "f(zhang=23,wang=45,li = 17)"
   ]
  },
  {
   "cell_type": "code",
   "execution_count": 12,
   "metadata": {},
   "outputs": [
    {
     "name": "stdout",
     "output_type": "stream",
     "text": [
      "x: 3.14\n",
      "2\n",
      "hello\n",
      "\n",
      "Li : 60.5\n",
      "zhang : 30.4\n",
      "name : world\n"
     ]
    }
   ],
   "source": [
    "def f(x, *y, **z):\n",
    "    print(\"x:\",x)\n",
    "    #访问“任意形参”中的参数\n",
    "    for e in y:\n",
    "        print(e)\n",
    "    print()\n",
    "    #访问字典形参中的参数\n",
    "    for key in z:\n",
    "        print(key, \":\", z[key])\n",
    "    \n",
    "f(3.14,2,\"hello\",Li = 60.5,zhang= 30.4,name= \"world\")\n"
   ]
  },
  {
   "cell_type": "code",
   "execution_count": 18,
   "metadata": {},
   "outputs": [
    {
     "name": "stdout",
     "output_type": "stream",
     "text": [
      "1 2 3\n"
     ]
    }
   ],
   "source": [
    "t = (1,2,3)\n",
    "print(*t)"
   ]
  },
  {
   "cell_type": "code",
   "execution_count": 9,
   "metadata": {},
   "outputs": [
    {
     "data": {
      "text/plain": [
       "8"
      ]
     },
     "execution_count": 9,
     "metadata": {},
     "output_type": "execute_result"
    }
   ],
   "source": [
    "def add(x,y):\n",
    "    return x+y\n",
    "\n",
    "c = (3,5)\n",
    "add(*c)   # add(3,5)"
   ]
  },
  {
   "cell_type": "code",
   "execution_count": 14,
   "metadata": {},
   "outputs": [
    {
     "name": "stdout",
     "output_type": "stream",
     "text": [
      "[3, 4, 5, 6]\n"
     ]
    }
   ],
   "source": [
    "a = list(range(3,7))\n",
    "print(a)"
   ]
  },
  {
   "cell_type": "code",
   "execution_count": 18,
   "metadata": {},
   "outputs": [
    {
     "name": "stdout",
     "output_type": "stream",
     "text": [
      "3 4 5 6 [3, 4, 5, 6]\n"
     ]
    }
   ],
   "source": [
    "b = (3,7)\n",
    "for e in range(*b):  #range(3,7)\n",
    "    print(e,end=' ')\n",
    "d = list(range(*b))  # list(range(3,7))\n",
    "print(d)"
   ]
  },
  {
   "cell_type": "code",
   "execution_count": null,
   "metadata": {},
   "outputs": [],
   "source": [
    "def factorial(n):\n",
    "    if n == 1:\n",
    "        return 1\n",
    "    else:\n",
    "        return n * factorial(n-1)"
   ]
  },
  {
   "cell_type": "code",
   "execution_count": null,
   "metadata": {},
   "outputs": [],
   "source": [
    "fact(4)\n",
    "\n",
    "===> fact(4)\n",
    "===> 4 * fact(3)\n",
    "===> 4 * (3 * fact(2))\n",
    "===> 4 * (3 * (2 * fact(1)))\n",
    "===> 4 * (3 * (2 * 1 ))\n",
    "===> 4 * (3 * 2)\n",
    "===> 4 * 6\n",
    "===> 24\n"
   ]
  }
 ],
 "metadata": {
  "kernelspec": {
   "display_name": "Python 3",
   "language": "python",
   "name": "python3"
  },
  "language_info": {
   "codemirror_mode": {
    "name": "ipython",
    "version": 3
   },
   "file_extension": ".py",
   "mimetype": "text/x-python",
   "name": "python",
   "nbconvert_exporter": "python",
   "pygments_lexer": "ipython3",
   "version": "3.7.1"
  }
 },
 "nbformat": 4,
 "nbformat_minor": 2
}
