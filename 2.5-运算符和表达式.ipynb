{
 "cells": [
  {
   "cell_type": "markdown",
   "metadata": {},
   "source": [
    "对数据（值/对象/变量）进行运算的特殊符号如```+、*、//```等，称为**运算符**。\n",
    "这些运算符操作的对象就称之为**运算数**(operands)  。"
   ]
  },
  {
   "cell_type": "code",
   "execution_count": 1,
   "metadata": {},
   "outputs": [
    {
     "data": {
      "text/plain": [
       "'worldworldworld'"
      ]
     },
     "execution_count": 1,
     "metadata": {},
     "output_type": "execute_result"
    }
   ],
   "source": [
    "2+3\n",
    "3/(5+2)\n",
    "3*\"world\""
   ]
  },
  {
   "cell_type": "markdown",
   "metadata": {},
   "source": [
    "不同类型的对象支持的运算符是不同的，比如不能对2个str字符串类型的变量应用-、*、/、//等运算，\n",
    "也不能对1个字符串和1个整数进行比如-、+、/等运算。 比如下面的都是非法的\n",
    "```\n",
    "'hi'-1         ’Hello’/123            'hi'*’Hello’          ’15’+2\n",
    "```"
   ]
  },
  {
   "cell_type": "code",
   "execution_count": null,
   "metadata": {},
   "outputs": [],
   "source": [
    "不同运算符具有不同的优先级和结合性。例如：\n",
    "```\n",
    "3+5/2     #优先级：先乘除后加减\n",
    "3+5-2     #结合性：从左向右计算\n",
    "```\n",
    "“3+5/2”中运算符/优先于+，“3+5-2”中+和-具有同样的优先级，\n",
    "但它们的结合性都是“从左向右”，因此，先计算左边的+，再计算右边的-。\n"
   ]
  },
  {
   "cell_type": "markdown",
   "metadata": {},
   "source": [
    "#### 1.\t算术运算符\n",
    "\n",
    "```+、-、*、/、//、 %、**```分别是表示加、减、乘、除、整数除、求余、幂运算。"
   ]
  },
  {
   "cell_type": "code",
   "execution_count": 2,
   "metadata": {},
   "outputs": [
    {
     "data": {
      "text/plain": [
       "17"
      ]
     },
     "execution_count": 2,
     "metadata": {},
     "output_type": "execute_result"
    }
   ],
   "source": [
    "15+2"
   ]
  },
  {
   "cell_type": "code",
   "execution_count": 5,
   "metadata": {},
   "outputs": [
    {
     "data": {
      "text/plain": [
       "30"
      ]
     },
     "execution_count": 5,
     "metadata": {},
     "output_type": "execute_result"
    }
   ],
   "source": [
    "15*2"
   ]
  },
  {
   "cell_type": "code",
   "execution_count": 7,
   "metadata": {},
   "outputs": [
    {
     "data": {
      "text/plain": [
       "7.5"
      ]
     },
     "execution_count": 7,
     "metadata": {},
     "output_type": "execute_result"
    }
   ],
   "source": [
    "15/2"
   ]
  },
  {
   "cell_type": "code",
   "execution_count": 8,
   "metadata": {},
   "outputs": [
    {
     "data": {
      "text/plain": [
       "7"
      ]
     },
     "execution_count": 8,
     "metadata": {},
     "output_type": "execute_result"
    }
   ],
   "source": [
    "15//2"
   ]
  },
  {
   "cell_type": "code",
   "execution_count": 9,
   "metadata": {},
   "outputs": [
    {
     "data": {
      "text/plain": [
       "1"
      ]
     },
     "execution_count": 9,
     "metadata": {},
     "output_type": "execute_result"
    }
   ],
   "source": [
    "15%2"
   ]
  },
  {
   "cell_type": "code",
   "execution_count": 10,
   "metadata": {},
   "outputs": [
    {
     "data": {
      "text/plain": [
       "225"
      ]
     },
     "execution_count": 10,
     "metadata": {},
     "output_type": "execute_result"
    }
   ],
   "source": [
    "15**2"
   ]
  },
  {
   "cell_type": "code",
   "execution_count": 16,
   "metadata": {},
   "outputs": [
    {
     "name": "stdout",
     "output_type": "stream",
     "text": [
      "6.12\n",
      "6.0\n",
      "0.3000000000000007\n",
      "915.6480546203329\n"
     ]
    }
   ],
   "source": [
    "print(15.3/2.5)\n",
    "print(15.3//2.5)     # 转化为整数除，即相当于15//2\n",
    "print(15.3%2.5)     # 15.3除以2.5的余数\n",
    "print(15.3**2.5)    # 15.3的2.5次方"
   ]
  },
  {
   "cell_type": "markdown",
   "metadata": {},
   "source": [
    "#### 2. 比较运算符\n",
    "\n",
    "```>、<、==、!=、>=、 <=```分别是表示大于、小于、等于、不等于、大于等于、小于等于运算。\n",
    "\n",
    "对2个量进行比较，产生的结果是一个表示“真”或“假”的bool（布尔）类型的值：True或False。"
   ]
  },
  {
   "cell_type": "code",
   "execution_count": 18,
   "metadata": {},
   "outputs": [
    {
     "name": "stdout",
     "output_type": "stream",
     "text": [
      "x > y  is True\n",
      "x < y  is False\n",
      "x == y is False\n",
      "x != y is True\n",
      "x >= y is True\n",
      "x <= y is False\n"
     ]
    }
   ],
   "source": [
    "x = 15\n",
    "y = 2\n",
    "print('x > y  is',x>y)\n",
    "print('x < y  is',x<y)\n",
    "print('x == y is',x==y)\n",
    "print('x != y is',x!=y)\n",
    "print('x >= y is',x>=y)\n",
    "print('x <= y is',x<=y)"
   ]
  },
  {
   "cell_type": "markdown",
   "metadata": {},
   "source": [
    "#### 3. 逻辑运算符\n",
    "\n",
    "逻辑运算符and、or、not分别表示逻辑与、逻辑或、逻辑非运算。\n",
    "在逻辑运算中，True或非0或非空对象就是真（True），而False或0或空对象就是假(Fasle)。\n",
    "对一个值x，当x是True或非0值或非空值时，not x就是False，当x是False或0或空值时，not x就是True（真）。例如："
   ]
  },
  {
   "cell_type": "code",
   "execution_count": 19,
   "metadata": {},
   "outputs": [
    {
     "data": {
      "text/plain": [
       "True"
      ]
     },
     "execution_count": 19,
     "metadata": {},
     "output_type": "execute_result"
    }
   ],
   "source": [
    "not 0"
   ]
  },
  {
   "cell_type": "code",
   "execution_count": 20,
   "metadata": {},
   "outputs": [
    {
     "data": {
      "text/plain": [
       "True"
      ]
     },
     "execution_count": 20,
     "metadata": {},
     "output_type": "execute_result"
    }
   ],
   "source": [
    "not []"
   ]
  },
  {
   "cell_type": "code",
   "execution_count": 24,
   "metadata": {},
   "outputs": [
    {
     "name": "stdout",
     "output_type": "stream",
     "text": [
      "True\n",
      "True\n",
      "True\n"
     ]
    }
   ],
   "source": [
    "print(not 0)\n",
    "print(not [])\n",
    "print(not False)"
   ]
  },
  {
   "cell_type": "code",
   "execution_count": 23,
   "metadata": {},
   "outputs": [
    {
     "name": "stdout",
     "output_type": "stream",
     "text": [
      "False\n",
      "False\n",
      "False\n"
     ]
    }
   ],
   "source": [
    "print(not 2)\n",
    "print(not [3])\n",
    "print(not True)"
   ]
  },
  {
   "cell_type": "markdown",
   "metadata": {},
   "source": [
    "对于2个对象x、y，当x是真时，x or y的结果就是x，当x是假时，x or y的结果就是y。"
   ]
  },
  {
   "cell_type": "code",
   "execution_count": 30,
   "metadata": {},
   "outputs": [
    {
     "name": "stdout",
     "output_type": "stream",
     "text": [
      "3\n",
      "3\n",
      "2\n",
      "True\n",
      "[]\n",
      "2\n"
     ]
    }
   ],
   "source": [
    "print(3 or 5)    #因为3是真，3 or 5的结果就是3\n",
    "print(3 or 2)     #因为3是真，3 or 2的结果就是3\n",
    "print(0 or 2)     #因为0是假，0 or 2的结果就是2\n",
    "print(False or True)\n",
    "print(False or [])\n",
    "print({} or 2)   #因为{}是假，{} or 2的结果就是2"
   ]
  },
  {
   "cell_type": "markdown",
   "metadata": {},
   "source": [
    "对于2个对象x、y，当x是真时，x and y的结果就是y，当x是假时，x and y的结果就是x。"
   ]
  },
  {
   "cell_type": "code",
   "execution_count": 31,
   "metadata": {},
   "outputs": [
    {
     "name": "stdout",
     "output_type": "stream",
     "text": [
      "5\n",
      "2\n",
      "0\n",
      "False\n",
      "False\n",
      "{}\n"
     ]
    }
   ],
   "source": [
    "print(3 and 5)      #因为3是真，3 and 5的结果就是5\n",
    "print(3 and 2)      #因为3是真，3 and 2的结果就是2\n",
    "print(0 and 2)      #因为0是假，0 and 2的结果就是0\n",
    "print(False and True)\n",
    "print(False and [])\n",
    "print({} and 2)     #因为{}是假，{} and 2的结果就是{}"
   ]
  },
  {
   "cell_type": "markdown",
   "metadata": {},
   "source": [
    "这3逻辑运算符具有不同的优先级：and优先于or，not优先于and、or。例如："
   ]
  },
  {
   "cell_type": "code",
   "execution_count": 32,
   "metadata": {},
   "outputs": [
    {
     "name": "stdout",
     "output_type": "stream",
     "text": [
      "2\n",
      "3\n"
     ]
    }
   ],
   "source": [
    "print(2 or 5 and 3)\n",
    "print( (2 or 5) and 3)  #可用圆括号（）改变运算符的计算次序"
   ]
  },
  {
   "cell_type": "markdown",
   "metadata": {},
   "source": [
    "#### 位运算\n",
    "\n",
    "对运算数的二进制位进行相应的运算。其中&（位与）、|（位或）、^（异或）是对2个运算数的对应二进制位进行运算，而~（补运算）、<<（左移位）、>>（右移位）则是对一个运算数的二进制位进行运算。"
   ]
  },
  {
   "cell_type": "code",
   "execution_count": 41,
   "metadata": {},
   "outputs": [
    {
     "name": "stdout",
     "output_type": "stream",
     "text": [
      "37\n",
      "22\n",
      "0b100101\n",
      "0b10110\n",
      "00100101\n",
      "00010110\n"
     ]
    }
   ],
   "source": [
    "a = 37     # 0b00100101\n",
    "b = 22     # 0b00010110\n",
    "print(a)\n",
    "print(b)\n",
    "print(bin(a))\n",
    "print(bin(b))"
   ]
  },
  {
   "cell_type": "code",
   "execution_count": 45,
   "metadata": {},
   "outputs": [
    {
     "name": "stdout",
     "output_type": "stream",
     "text": [
      "a =  00100101\n",
      "b =  00010110\n",
      "a&b= 00000100\n",
      "a|b= 00110111\n",
      "a^b= 00110011\n"
     ]
    }
   ],
   "source": [
    "# str的format()函数输出a、b、a&b、a|b、a^b的二进制字符串。\n",
    "a = 37\n",
    "b = 22\n",
    "print('a = ','{:08b}'.format(a))\n",
    "print('b = ','{:08b}'.format(b))\n",
    "print('a&b=','{:08b}'.format(a&b))\n",
    "print('a|b=','{:08b}'.format(a|b))\n",
    "print('a^b=','{:08b}'.format(a^b))"
   ]
  },
  {
   "cell_type": "code",
   "execution_count": 56,
   "metadata": {},
   "outputs": [
    {
     "name": "stdout",
     "output_type": "stream",
     "text": [
      "b =    00010110\n",
      "b<<2:  01011000\n",
      "b>>2:  00000101\n",
      "~b:    -0010111\n",
      "22\n",
      "88\n",
      "5\n",
      "-23\n"
     ]
    }
   ],
   "source": [
    "print('b =   ','{:08b}'.format(b))\n",
    "print('b<<2: ','{:08b}'.format(b<<2))    # b的二进制左移2位，右边低位补充0\n",
    "print('b>>2: ','{:08b}'.format(b>>2))    # b的二进制右移2位，左边高位补充0\n",
    "print('~b:   ','{:08b}'.format(~b))      # ~b就是-b-1，b=22的补是-23\n",
    "print(b)\n",
    "print(b<<2) \n",
    "print(b>>2)\n",
    "print(~b)"
   ]
  },
  {
   "cell_type": "markdown",
   "metadata": {},
   "source": [
    "其中的取反运算~涉及到一个数在计算机内部的二进制表示。数字在计算机中是以补码保存的，所以Python位运算是作用在补码上的。\n",
    "\n",
    "假如用8位二进制表示一个数，对于正整数1，其二进制的原码是00000001，而对于负整数-1，其二进制的原码是10000001，即左边 的最高位1表示这是一个负数。除原码外，一个数在计算机内部还可以用反码和补码表示。对于正数，其反码和补码和原码是一样的，例如1的反码和补码都是0000001。而对于负数，反码除左边最高位外，其他位都是原码的取反，如-1的反码是11111110，而补码就是在反码基础上加上1，即-1的补码是11111111。\n",
    "\n",
    "\n",
    "b=22的原码、反码和补码都是00010110。对b的二进制取反~b的结果就是11101001，这个数实际上是-(b+1)的补码。因为-b的二进制原码是10010110，而-(b+1)的二进制原码是10010111，其补码就是11101001。但bin()和str的fromat()函数会将~b的补码表示转换成原码表示，因此，尽管~b运算产生的二进制是11101001，但显示的是其二进制原码10010111。"
   ]
  },
  {
   "cell_type": "code",
   "execution_count": 63,
   "metadata": {},
   "outputs": [
    {
     "name": "stdout",
     "output_type": "stream",
     "text": [
      "1:    00000001\n",
      "-1:    -0000001\n",
      "22:    00010110\n",
      "-22:    -0010110\n",
      "23:    00010111\n",
      "-23:    -0010111\n",
      "-23:    -0b10111\n"
     ]
    }
   ],
   "source": [
    "# bin()，format()都是将一个数转化为二进制原码的字符串形\n",
    "\n",
    "print('1:   ','{:08b}'.format(1))          # 1的二进制原码表示   00000001\n",
    "print('-1:   ','{:08b}'.format(-1))        # -1的二进制原码表示  10000001\n",
    "print('22:   ','{:08b}'.format(22))        # 22的二进制原码表示  00010110\n",
    "print('-22:   ','{:08b}'.format(-22))      # -22的二进制原码表示 10010110\n",
    "print('23:   ','{:08b}'.format(23))        # 23的二进制原码表示  00010111\n",
    "print('-23:   ','{:08b}'.format(-23))      # -23的二进制原码表示 10010111"
   ]
  },
  {
   "cell_type": "markdown",
   "metadata": {},
   "source": [
    "#### 赋值运算符\n",
    "\n",
    "赋值运算符=是给一个对象起一个名字，如x=3就是给对象3起了一个变量名x。"
   ]
  },
  {
   "cell_type": "code",
   "execution_count": null,
   "metadata": {},
   "outputs": [],
   "source": [
    "x=2\n",
    "x = x+3   #在表达式x = x+3中，右边的变量名x引用的是原先的对象，而左边的变量名x引用的是新的结果对象。\n"
   ]
  },
  {
   "cell_type": "code",
   "execution_count": null,
   "metadata": {},
   "outputs": [],
   "source": [
    "x=2\n",
    "x+=3   # 相当于x = x+3，表示原先x和3相加的结果对象起了一个名字x,即x指向了新的对象\n",
    "       # 变量名x现在引用的是一个新的结果对象而不是原来的2。"
   ]
  },
  {
   "cell_type": "code",
   "execution_count": 64,
   "metadata": {},
   "outputs": [
    {
     "name": "stdout",
     "output_type": "stream",
     "text": [
      "2\n",
      "1477476432\n",
      "8\n",
      "1477476624\n",
      "2\n",
      "1477476432\n"
     ]
    }
   ],
   "source": [
    "x=2\n",
    "y = x      # y和x都是对象2的名字\n",
    "print(x)\n",
    "print(id(x))\n",
    "x**=3   #相当于x = x**3  \n",
    "print(x)\n",
    "print(id(x))\n",
    "print(y)\n",
    "print(id(y))"
   ]
  },
  {
   "cell_type": "markdown",
   "metadata": {},
   "source": [
    "#### 6.\t成员运算符：in 、not in"
   ]
  },
  {
   "cell_type": "code",
   "execution_count": 65,
   "metadata": {},
   "outputs": [
    {
     "name": "stdout",
     "output_type": "stream",
     "text": [
      "False\n",
      "True\n",
      "True\n",
      "False\n"
     ]
    }
   ],
   "source": [
    "alist = [2,5,7,8]\n",
    "print(3 in alist)\n",
    "print(5 in alist)\n",
    "print(3 not in alist)\n",
    "print(5 not in alist)"
   ]
  },
  {
   "cell_type": "markdown",
   "metadata": {},
   "source": [
    "#### 7.\t身份运算符: is、is not \n",
    "身份运算符**is**和**is not**用于判断两个变量（标识符）是不是引用的同一个对象。\n"
   ]
  },
  {
   "cell_type": "code",
   "execution_count": 66,
   "metadata": {},
   "outputs": [
    {
     "name": "stdout",
     "output_type": "stream",
     "text": [
      "True\n"
     ]
    }
   ],
   "source": [
    "a = 10\n",
    "b = 10\n",
    "print(a is b)"
   ]
  },
  {
   "cell_type": "code",
   "execution_count": 70,
   "metadata": {},
   "outputs": [
    {
     "name": "stdout",
     "output_type": "stream",
     "text": [
      "1477476688\n",
      "1477476688\n",
      "True\n",
      "False\n"
     ]
    }
   ],
   "source": [
    "a = 10\n",
    "b = 10\n",
    "print(id(a))\n",
    "print(id(b))\n",
    "print(a is b)\n",
    "print(a is not b)"
   ]
  },
  {
   "cell_type": "code",
   "execution_count": 71,
   "metadata": {},
   "outputs": [
    {
     "name": "stdout",
     "output_type": "stream",
     "text": [
      "2417203138160\n",
      "2417203138192\n",
      "False\n",
      "True\n"
     ]
    }
   ],
   "source": [
    "a = 1000\n",
    "b = 1000\n",
    "print(id(a))\n",
    "print(id(b))\n",
    "print(a is b)\n",
    "print(a is not b)"
   ]
  },
  {
   "cell_type": "code",
   "execution_count": null,
   "metadata": {},
   "outputs": [],
   "source": []
  }
 ],
 "metadata": {
  "kernelspec": {
   "display_name": "Python 3",
   "language": "python",
   "name": "python3"
  },
  "language_info": {
   "codemirror_mode": {
    "name": "ipython",
    "version": 3
   },
   "file_extension": ".py",
   "mimetype": "text/x-python",
   "name": "python",
   "nbconvert_exporter": "python",
   "pygments_lexer": "ipython3",
   "version": "3.6.8"
  }
 },
 "nbformat": 4,
 "nbformat_minor": 2
}
