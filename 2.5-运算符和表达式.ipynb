{
 "cells": [
  {
   "cell_type": "markdown",
   "metadata": {},
   "source": [
    "对数据（值/对象/变量）进行运算的特殊符号如```+、*、//```等，称为**运算符**。\n",
    "这些运算符操作的对象就称之为**运算数**(operands)  。"
   ]
  },
  {
   "cell_type": "code",
   "execution_count": 1,
   "metadata": {},
   "outputs": [
    {
     "data": {
      "text/plain": [
       "'worldworldworld'"
      ]
     },
     "execution_count": 1,
     "metadata": {},
     "output_type": "execute_result"
    }
   ],
   "source": [
    "2+3\n",
    "3/(5+2)\n",
    "3*\"world\""
   ]
  },
  {
   "cell_type": "markdown",
   "metadata": {},
   "source": [
    "不同类型的对象支持的运算符是不同的，比如不能对2个str字符串类型的变量应用-、*、/、//等运算，\n",
    "也不能对1个字符串和1个整数进行比如-、+、/等运算。 比如下面的都是非法的\n",
    "```\n",
    "'hi'-1         ’Hello’/123            'hi'*’Hello’          ’15’+2\n",
    "```"
   ]
  },
  {
   "cell_type": "code",
   "execution_count": null,
   "metadata": {},
   "outputs": [],
   "source": [
    "不同运算符具有不同的优先级和结合性。例如：\n",
    "```\n",
    "3+5/2     #优先级：先乘除后加减\n",
    "3+5-2     #结合性：从左向右计算\n",
    "```\n",
    "“3+5/2”中运算符/优先于+，“3+5-2”中+和-具有同样的优先级，\n",
    "但它们的结合性都是“从左向右”，因此，先计算左边的+，再计算右边的-。\n"
   ]
  },
  {
   "cell_type": "markdown",
   "metadata": {},
   "source": [
    "#### 1.\t算术运算符\n",
    "\n",
    "```+、-、*、/、//、 %、**```分别是表示加、减、乘、除、整数除、求余、幂运算。"
   ]
  },
  {
   "cell_type": "code",
   "execution_count": 2,
   "metadata": {},
   "outputs": [
    {
     "data": {
      "text/plain": [
       "17"
      ]
     },
     "execution_count": 2,
     "metadata": {},
     "output_type": "execute_result"
    }
   ],
   "source": [
    "15+2"
   ]
  },
  {
   "cell_type": "code",
   "execution_count": 5,
   "metadata": {},
   "outputs": [
    {
     "data": {
      "text/plain": [
       "30"
      ]
     },
     "execution_count": 5,
     "metadata": {},
     "output_type": "execute_result"
    }
   ],
   "source": [
    "15*2"
   ]
  },
  {
   "cell_type": "code",
   "execution_count": 7,
   "metadata": {},
   "outputs": [
    {
     "data": {
      "text/plain": [
       "7.5"
      ]
     },
     "execution_count": 7,
     "metadata": {},
     "output_type": "execute_result"
    }
   ],
   "source": [
    "15/2"
   ]
  },
  {
   "cell_type": "code",
   "execution_count": 8,
   "metadata": {},
   "outputs": [
    {
     "data": {
      "text/plain": [
       "7"
      ]
     },
     "execution_count": 8,
     "metadata": {},
     "output_type": "execute_result"
    }
   ],
   "source": [
    "15//2"
   ]
  },
  {
   "cell_type": "code",
   "execution_count": 9,
   "metadata": {},
   "outputs": [
    {
     "data": {
      "text/plain": [
       "1"
      ]
     },
     "execution_count": 9,
     "metadata": {},
     "output_type": "execute_result"
    }
   ],
   "source": [
    "15%2"
   ]
  },
  {
   "cell_type": "code",
   "execution_count": 10,
   "metadata": {},
   "outputs": [
    {
     "data": {
      "text/plain": [
       "225"
      ]
     },
     "execution_count": 10,
     "metadata": {},
     "output_type": "execute_result"
    }
   ],
   "source": [
    "15**2"
   ]
  },
  {
   "cell_type": "code",
   "execution_count": 16,
   "metadata": {},
   "outputs": [
    {
     "name": "stdout",
     "output_type": "stream",
     "text": [
      "6.12\n",
      "6.0\n",
      "0.3000000000000007\n",
      "915.6480546203329\n"
     ]
    }
   ],
   "source": [
    "print(15.3/2.5)\n",
    "print(15.3//2.5)     # 转化为整数除，即相当于15//2\n",
    "print(15.3%2.5)     # 15.3除以2.5的余数\n",
    "print(15.3**2.5)    # 15.3的2.5次方"
   ]
  },
  {
   "cell_type": "markdown",
   "metadata": {},
   "source": [
    "#### 2. 比较运算符\n",
    "\n",
    "```>、<、==、!=、>=、 <=```分别是表示大于、小于、等于、不等于、大于等于、小于等于运算。\n",
    "\n",
    "对2个量进行比较，产生的结果是一个表示“真”或“假”的bool（布尔）类型的值：True或False。"
   ]
  },
  {
   "cell_type": "code",
   "execution_count": 18,
   "metadata": {},
   "outputs": [
    {
     "name": "stdout",
     "output_type": "stream",
     "text": [
      "x > y  is True\n",
      "x < y  is False\n",
      "x == y is False\n",
      "x != y is True\n",
      "x >= y is True\n",
      "x <= y is False\n"
     ]
    }
   ],
   "source": [
    "x = 15\n",
    "y = 2\n",
    "print('x > y  is',x>y)\n",
    "print('x < y  is',x<y)\n",
    "print('x == y is',x==y)\n",
    "print('x != y is',x!=y)\n",
    "print('x >= y is',x>=y)\n",
    "print('x <= y is',x<=y)"
   ]
  },
  {
   "cell_type": "markdown",
   "metadata": {},
   "source": [
    "#### 3. 逻辑运算符\n",
    "\n",
    "逻辑运算符and、or、not分别表示逻辑与、逻辑或、逻辑非运算。\n",
    "在逻辑运算中，True或非0或非空对象就是真（True），而False或0或空对象就是假(Fasle)。\n",
    "对一个值x，当x是True或非0值或非空值时，not x就是False，当x是False或0或空值时，not x就是True（真）。例如："
   ]
  },
  {
   "cell_type": "code",
   "execution_count": 19,
   "metadata": {},
   "outputs": [
    {
     "data": {
      "text/plain": [
       "True"
      ]
     },
     "execution_count": 19,
     "metadata": {},
     "output_type": "execute_result"
    }
   ],
   "source": [
    "not 0"
   ]
  },
  {
   "cell_type": "code",
   "execution_count": 20,
   "metadata": {},
   "outputs": [
    {
     "data": {
      "text/plain": [
       "True"
      ]
     },
     "execution_count": 20,
     "metadata": {},
     "output_type": "execute_result"
    }
   ],
   "source": [
    "not []"
   ]
  },
  {
   "cell_type": "code",
   "execution_count": 24,
   "metadata": {},
   "outputs": [
    {
     "name": "stdout",
     "output_type": "stream",
     "text": [
      "True\n",
      "True\n",
      "True\n"
     ]
    }
   ],
   "source": [
    "print(not 0)\n",
    "print(not [])\n",
    "print(not False)"
   ]
  },
  {
   "cell_type": "code",
   "execution_count": 23,
   "metadata": {},
   "outputs": [
    {
     "name": "stdout",
     "output_type": "stream",
     "text": [
      "False\n",
      "False\n",
      "False\n"
     ]
    }
   ],
   "source": [
    "print(not 2)\n",
    "print(not [3])\n",
    "print(not True)"
   ]
  },
  {
   "cell_type": "markdown",
   "metadata": {},
   "source": [
    "对于2个对象x、y，当x是真时，x or y的结果就是x，当x是假时，x or y的结果就是y。"
   ]
  },
  {
   "cell_type": "code",
   "execution_count": 30,
   "metadata": {},
   "outputs": [
    {
     "name": "stdout",
     "output_type": "stream",
     "text": [
      "3\n",
      "3\n",
      "2\n",
      "True\n",
      "[]\n",
      "2\n"
     ]
    }
   ],
   "source": [
    "print(3 or 5)    #因为3是真，3 or 5的结果就是3\n",
    "print(3 or 2)     #因为3是真，3 or 2的结果就是3\n",
    "print(0 or 2)     #因为0是假，0 or 2的结果就是2\n",
    "print(False or True)\n",
    "print(False or [])\n",
    "print({} or 2)   #因为{}是假，{} or 2的结果就是2"
   ]
  },
  {
   "cell_type": "markdown",
   "metadata": {},
   "source": [
    "对于2个对象x、y，当x是真时，x and y的结果就是y，当x是假时，x and y的结果就是x。"
   ]
  },
  {
   "cell_type": "code",
   "execution_count": 31,
   "metadata": {},
   "outputs": [
    {
     "name": "stdout",
     "output_type": "stream",
     "text": [
      "5\n",
      "2\n",
      "0\n",
      "False\n",
      "False\n",
      "{}\n"
     ]
    }
   ],
   "source": [
    "print(3 and 5)      #因为3是真，3 and 5的结果就是5\n",
    "print(3 and 2)      #因为3是真，3 and 2的结果就是2\n",
    "print(0 and 2)      #因为0是假，0 and 2的结果就是0\n",
    "print(False and True)\n",
    "print(False and [])\n",
    "print({} and 2)     #因为{}是假，{} and 2的结果就是{}"
   ]
  },
  {
   "cell_type": "code",
   "execution_count": null,
   "metadata": {},
   "outputs": [],
   "source": []
  },
  {
   "cell_type": "code",
   "execution_count": 32,
   "metadata": {},
   "outputs": [
    {
     "name": "stdout",
     "output_type": "stream",
     "text": [
      "2\n",
      "3\n"
     ]
    }
   ],
   "source": [
    "print(2 or 5 and 3)\n",
    "print( (2 or 5) and 3)  #可用圆括号（）改变运算符的计算次序"
   ]
  },
  {
   "cell_type": "code",
   "execution_count": null,
   "metadata": {},
   "outputs": [],
   "source": []
  }
 ],
 "metadata": {
  "kernelspec": {
   "display_name": "Python 3",
   "language": "python",
   "name": "python3"
  },
  "language_info": {
   "codemirror_mode": {
    "name": "ipython",
    "version": 3
   },
   "file_extension": ".py",
   "mimetype": "text/x-python",
   "name": "python",
   "nbconvert_exporter": "python",
   "pygments_lexer": "ipython3",
   "version": "3.6.8"
  }
 },
 "nbformat": 4,
 "nbformat_minor": 2
}
