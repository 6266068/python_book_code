{
 "cells": [
  {
   "cell_type": "code",
   "execution_count": 24,
   "metadata": {},
   "outputs": [
    {
     "name": "stdout",
     "output_type": "stream",
     "text": [
      "请输入要查找的整数：37\n",
      "7\n",
      "查找成功！\n"
     ]
    }
   ],
   "source": [
    "arr = [12,46,25,43,58,7,37,5,80,34,105,82]\n",
    "v = int(input(\"请输入要查找的整数：\"))\n",
    "found = False\n",
    "i = 0\n",
    "for e in arr:\n",
    "    i+=1\n",
    "    if e==v:       \n",
    "        found = True\n",
    "        break\n",
    "print(i)\n",
    "if not found:\n",
    "    print(\"查找失败！\") \n",
    "else:\n",
    "     print(\"查找成功！\")\n"
   ]
  },
  {
   "cell_type": "code",
   "execution_count": 38,
   "metadata": {},
   "outputs": [
    {
     "name": "stdout",
     "output_type": "stream",
     "text": [
      "请输入要查找的整数：80\n",
      "查找成功！该元素位于下标： 9\n"
     ]
    }
   ],
   "source": [
    "arr = [5,7,12,25,34,37,43,46,58,80,82,105]\n",
    "v = int(input(\"请输入要查找的整数：\"))\n",
    "location = -1\n",
    "low = 0\n",
    "high = len(arr)-1\n",
    "while low<=high:\n",
    "    middle = (low+high)//2\n",
    "    #print(low,middle, high)\n",
    "    if arr[middle]==v:\n",
    "        location = middle\n",
    "        break\n",
    "    elif v<arr[middle]:\n",
    "        high = middle-1\n",
    "    else:\n",
    "        low = middle+1\n",
    "if location<0:   #if high<low:      # \n",
    "    print(\"查找失败！\")\n",
    "else:\n",
    "    print(\"查找成功！该元素位于下标：\",location)"
   ]
  },
  {
   "cell_type": "code",
   "execution_count": null,
   "metadata": {},
   "outputs": [],
   "source": [
    "n, n/2,n/2^2,.. .2^k>=n\n",
    "\n",
    "(n+1)/2    log(n)"
   ]
  }
 ],
 "metadata": {
  "kernelspec": {
   "display_name": "Python 3",
   "language": "python",
   "name": "python3"
  },
  "language_info": {
   "codemirror_mode": {
    "name": "ipython",
    "version": 3
   },
   "file_extension": ".py",
   "mimetype": "text/x-python",
   "name": "python",
   "nbconvert_exporter": "python",
   "pygments_lexer": "ipython3",
   "version": "3.7.1"
  }
 },
 "nbformat": 4,
 "nbformat_minor": 2
}
