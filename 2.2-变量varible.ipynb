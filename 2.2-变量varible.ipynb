{
 "cells": [
  {
   "cell_type": "code",
   "execution_count": 3,
   "metadata": {},
   "outputs": [
    {
     "name": "stdout",
     "output_type": "stream",
     "text": [
      "2\n",
      "3.14\n",
      "hello world\n"
     ]
    }
   ],
   "source": [
    "ival = 2;\n",
    "PI = 3.14;\n",
    "s = \"hello world\"\n",
    "print(ival)  #打印变量ival引用的对象2\n",
    "print(PI)\n",
    "print(s)"
   ]
  },
  {
   "cell_type": "code",
   "execution_count": 9,
   "metadata": {},
   "outputs": [
    {
     "name": "stdout",
     "output_type": "stream",
     "text": [
      "2 2\n"
     ]
    }
   ],
   "source": [
    "PI=ival   # PI修改为ival引用对象的引用，即PI和ival都引用了整数对象2。\n",
    "print(PI,ival)"
   ]
  },
  {
   "cell_type": "code",
   "execution_count": 10,
   "metadata": {},
   "outputs": [
    {
     "name": "stdout",
     "output_type": "stream",
     "text": [
      "140719425434480 140719425434480\n"
     ]
    }
   ],
   "source": [
    "print(id(PI),id(ival))"
   ]
  },
  {
   "cell_type": "code",
   "execution_count": 18,
   "metadata": {},
   "outputs": [
    {
     "name": "stdout",
     "output_type": "stream",
     "text": [
      "True\n",
      "False\n",
      "True\n"
     ]
    }
   ],
   "source": [
    "#运算符 == 和 is，前者用于比较对象的值是否相等，后者用于判断两个对象是不是同一个\n",
    "a=1000 \n",
    "b=1000 \n",
    "print(a == b)\n",
    "print(a is b)\n",
    "print(PI==ival)"
   ]
  },
  {
   "cell_type": "code",
   "execution_count": 16,
   "metadata": {},
   "outputs": [
    {
     "name": "stdout",
     "output_type": "stream",
     "text": [
      "<class 'bool'>\n",
      "<class 'bool'>\n"
     ]
    }
   ],
   "source": [
    "print(type(a==b))\n",
    "print(type(a is b))"
   ]
  },
  {
   "cell_type": "code",
   "execution_count": 17,
   "metadata": {},
   "outputs": [
    {
     "name": "stdout",
     "output_type": "stream",
     "text": [
      "2824718459984\n",
      "2824718459920\n"
     ]
    }
   ],
   "source": [
    "#用id()函数得到a、b的内存地址\n",
    "#说明a和b确实是2个不同的对象，它们占据的内存块地址是不同的\n",
    "print(id(a))\n",
    "print(id(b))"
   ]
  },
  {
   "cell_type": "code",
   "execution_count": 20,
   "metadata": {},
   "outputs": [
    {
     "ename": "SyntaxError",
     "evalue": "invalid syntax (<ipython-input-20-46e2f12ff435>, line 2)",
     "output_type": "error",
     "traceback": [
      "\u001b[1;36m  File \u001b[1;32m\"<ipython-input-20-46e2f12ff435>\"\u001b[1;36m, line \u001b[1;32m2\u001b[0m\n\u001b[1;33m    @name = 3.14\u001b[0m\n\u001b[1;37m          ^\u001b[0m\n\u001b[1;31mSyntaxError\u001b[0m\u001b[1;31m:\u001b[0m invalid syntax\n"
     ]
    }
   ],
   "source": [
    "#变量名只能包含字母、数字和下划线_，且不能以数字开头\n",
    "def =True\n",
    "@name = \"LiPing\"\n",
    "A$2 = 11.2\n",
    "2pi = 6.28\n",
    "class = \"hello\""
   ]
  },
  {
   "cell_type": "code",
   "execution_count": null,
   "metadata": {},
   "outputs": [],
   "source": []
  }
 ],
 "metadata": {
  "kernelspec": {
   "display_name": "Python 3",
   "language": "python",
   "name": "python3"
  },
  "language_info": {
   "codemirror_mode": {
    "name": "ipython",
    "version": 3
   },
   "file_extension": ".py",
   "mimetype": "text/x-python",
   "name": "python",
   "nbconvert_exporter": "python",
   "pygments_lexer": "ipython3",
   "version": "3.6.8"
  }
 },
 "nbformat": 4,
 "nbformat_minor": 2
}
