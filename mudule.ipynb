{
 "cells": [
  {
   "cell_type": "code",
   "execution_count": null,
   "metadata": {},
   "outputs": [],
   "source": [
    "import hi \n",
    "hi.hello(\"Li Ping\")"
   ]
  },
  {
   "cell_type": "code",
   "execution_count": null,
   "metadata": {},
   "outputs": [],
   "source": [
    "import hi as hhh\n",
    "hhh.hello(\"Li Ping\")"
   ]
  },
  {
   "cell_type": "code",
   "execution_count": 3,
   "metadata": {},
   "outputs": [
    {
     "name": "stdout",
     "output_type": "stream",
     "text": [
      "hello,world\n",
      "Li Ping\n"
     ]
    }
   ],
   "source": [
    "from hi import *\n",
    "from gi import * #名字冲突\n",
    "\n",
    "hello(\"Li Ping\")"
   ]
  },
  {
   "cell_type": "code",
   "execution_count": 8,
   "metadata": {},
   "outputs": [
    {
     "name": "stdout",
     "output_type": "stream",
     "text": [
      "3.141592653589793\n",
      "19.634954084936208\n",
      "1.4142135623730951\n",
      "0.9999996829318346\n"
     ]
    }
   ],
   "source": [
    "import math  as m\n",
    "print(m.pi)\n",
    "print(m.pi*2.5*2.5)\n",
    "print(m.sqrt(2))\n",
    "print(m.sin(1.57))"
   ]
  },
  {
   "cell_type": "code",
   "execution_count": 9,
   "metadata": {},
   "outputs": [
    {
     "name": "stdout",
     "output_type": "stream",
     "text": [
      "3.141592653589793\n",
      "19.634954084936208\n",
      "1.4142135623730951\n",
      "0.9999996829318346\n"
     ]
    }
   ],
   "source": [
    "from math import *\n",
    "print(pi)\n",
    "print(pi*2.5*2.5)\n",
    "print(sqrt(2))\n",
    "print(sin(1.57))"
   ]
  },
  {
   "cell_type": "code",
   "execution_count": 15,
   "metadata": {},
   "outputs": [
    {
     "name": "stdout",
     "output_type": "stream",
     "text": [
      "win32\n",
      "['', 'F:\\\\python_code', 'f:\\\\python37-32\\\\python37.zip', 'f:\\\\python37-32\\\\DLLs', 'f:\\\\python37-32\\\\lib', 'f:\\\\python37-32', 'f:\\\\python37-32\\\\lib\\\\site-packages', 'f:\\\\python37-32\\\\lib\\\\site-packages\\\\IPython\\\\extensions', 'C:\\\\Users\\\\w\\\\.ipython', 'F:/', 'F:\\\\']\n"
     ]
    }
   ],
   "source": [
    "import sys\n",
    "print(sys.platform)\n",
    "print(sys.path) #PYTHONPATH\n",
    "sys.path.append(\"F:/\")"
   ]
  },
  {
   "cell_type": "code",
   "execution_count": 23,
   "metadata": {},
   "outputs": [
    {
     "name": "stdout",
     "output_type": "stream",
     "text": [
      "0.8922106229422315\n",
      "66.22258703184991\n",
      "66\n"
     ]
    }
   ],
   "source": [
    "import random\n",
    "print(random.random())\n",
    "b = random.uniform(100, 1)  # 1到100之间的浮点数\n",
    "print(b)\n",
    "c= random.randint(-10, 80)  #随机整数\n",
    "print(c)"
   ]
  },
  {
   "cell_type": "code",
   "execution_count": 30,
   "metadata": {},
   "outputs": [
    {
     "name": "stdout",
     "output_type": "stream",
     "text": [
      "a.hwdong.com\n",
      "['a.hwdong.com', '小白', 'Python', 'C']\n"
     ]
    }
   ],
   "source": [
    "p = [\"Python\", \"C\", \"小白\", \"a.hwdong.com\"] \n",
    "print(random.choice(p))        # 从列表x中任意选择一个数\n",
    "random.shuffle(p)             #重排序：打乱列表x中元素的次序\n",
    "print(p)"
   ]
  },
  {
   "cell_type": "code",
   "execution_count": 35,
   "metadata": {},
   "outputs": [
    {
     "data": {
      "text/plain": [
       "12"
      ]
     },
     "execution_count": 35,
     "metadata": {},
     "output_type": "execute_result"
    }
   ],
   "source": [
    "random.randrange(10, 20, 2)"
   ]
  },
  {
   "cell_type": "code",
   "execution_count": null,
   "metadata": {},
   "outputs": [],
   "source": []
  }
 ],
 "metadata": {
  "kernelspec": {
   "display_name": "Python 3",
   "language": "python",
   "name": "python3"
  },
  "language_info": {
   "codemirror_mode": {
    "name": "ipython",
    "version": 3
   },
   "file_extension": ".py",
   "mimetype": "text/x-python",
   "name": "python",
   "nbconvert_exporter": "python",
   "pygments_lexer": "ipython3",
   "version": "3.7.1"
  }
 },
 "nbformat": 4,
 "nbformat_minor": 2
}
