{
 "cells": [
  {
   "cell_type": "code",
   "execution_count": 4,
   "metadata": {},
   "outputs": [
    {
     "name": "stdout",
     "output_type": "stream",
     "text": [
      "[13, 27, 27, 38, 49, 49, 76, 97]\n"
     ]
    }
   ],
   "source": [
    "arr = [49,38,27,97,76,13,27,49]\n",
    "for i in range(len(arr)-1,0,-1):  #range(s,e,step)\n",
    "    for j in range(i):  #[0,1,...,i]\n",
    "        if arr[j]>arr[j+1]:\n",
    "            ##t = arr[j]\n",
    "            ##arr[j] = arr[j+1]\n",
    "            ##arr[j+1]= t\n",
    "            arr[j],arr[j+1] = arr[j+1],arr[j]\n",
    "print(arr)"
   ]
  },
  {
   "cell_type": "code",
   "execution_count": null,
   "metadata": {},
   "outputs": [],
   "source": []
  }
 ],
 "metadata": {
  "kernelspec": {
   "display_name": "Python 3",
   "language": "python",
   "name": "python3"
  },
  "language_info": {
   "codemirror_mode": {
    "name": "ipython",
    "version": 3
   },
   "file_extension": ".py",
   "mimetype": "text/x-python",
   "name": "python",
   "nbconvert_exporter": "python",
   "pygments_lexer": "ipython3",
   "version": "3.7.1"
  }
 },
 "nbformat": 4,
 "nbformat_minor": 2
}
