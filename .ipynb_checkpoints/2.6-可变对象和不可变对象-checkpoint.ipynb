{
 "cells": [
  {
   "cell_type": "markdown",
   "metadata": {},
   "source": [
    "Python的数据类型分为**可变类型**和**不可变类型**，可变类型的对象的值是可以修改的，称为**可变对象**，而不可变类型的对象的值是不可以被修改的，称为**不可变对象**。\n",
    "\n",
    "数值类型、str、tuple类型都是不可变类型，而list、set、dict等都是不可变类型。"
   ]
  },
  {
   "cell_type": "code",
   "execution_count": 13,
   "metadata": {},
   "outputs": [
    {
     "name": "stdout",
     "output_type": "stream",
     "text": [
      "[4, 2, 3]\n"
     ]
    }
   ],
   "source": [
    "a = [1,2,3]\n",
    "a[0] = 4\n",
    "print(a)"
   ]
  },
  {
   "cell_type": "code",
   "execution_count": 14,
   "metadata": {
    "scrolled": true
   },
   "outputs": [
    {
     "ename": "TypeError",
     "evalue": "'tuple' object does not support item assignment",
     "output_type": "error",
     "traceback": [
      "\u001b[1;31m---------------------------------------------------------------------------\u001b[0m",
      "\u001b[1;31mTypeError\u001b[0m                                 Traceback (most recent call last)",
      "\u001b[1;32m<ipython-input-14-a3a39acb9e1e>\u001b[0m in \u001b[0;36m<module>\u001b[1;34m\u001b[0m\n\u001b[0;32m      1\u001b[0m \u001b[0mt\u001b[0m \u001b[1;33m=\u001b[0m \u001b[1;33m(\u001b[0m\u001b[1;36m1\u001b[0m\u001b[1;33m,\u001b[0m\u001b[1;36m2\u001b[0m\u001b[1;33m,\u001b[0m\u001b[1;36m3\u001b[0m\u001b[1;33m)\u001b[0m\u001b[1;33m\u001b[0m\u001b[1;33m\u001b[0m\u001b[0m\n\u001b[1;32m----> 2\u001b[1;33m \u001b[0mt\u001b[0m\u001b[1;33m[\u001b[0m\u001b[1;36m0\u001b[0m\u001b[1;33m]\u001b[0m \u001b[1;33m=\u001b[0m \u001b[1;36m4\u001b[0m\u001b[1;33m\u001b[0m\u001b[1;33m\u001b[0m\u001b[0m\n\u001b[0m",
      "\u001b[1;31mTypeError\u001b[0m: 'tuple' object does not support item assignment"
     ]
    }
   ],
   "source": [
    "t = (1,2,3)\n",
    "t[0] = 4"
   ]
  },
  {
   "cell_type": "code",
   "execution_count": 15,
   "metadata": {},
   "outputs": [
    {
     "name": "stdout",
     "output_type": "stream",
     "text": [
      "(1, 2, 3)\n",
      "(4, 5, 6)\n"
     ]
    }
   ],
   "source": [
    "t= (1,2,3)\n",
    "print(t)\n",
    "t =(4,5,6)\n",
    "print(t)"
   ]
  },
  {
   "cell_type": "markdown",
   "metadata": {},
   "source": [
    "上述代码是变量名分别指向了不同 的tuple对象，而它们指向的tuple对象本身并没有被修改。\n",
    "\n",
    "前面说过：变量是对象的引用，也就是说变量仅仅是对象的别名，而不是对象本身。当变量t引用不可修改的tuple对象(1,2,3)时，这个tuple对象不能被修改，但可以对变量名t重新赋值，如“t= (4,5,6)”使变量t又引用了这个新的tuple对象。"
   ]
  },
  {
   "cell_type": "code",
   "execution_count": 18,
   "metadata": {},
   "outputs": [
    {
     "name": "stdout",
     "output_type": "stream",
     "text": [
      "True\n",
      "1793971891984 1793971891984\n",
      "hello\n",
      "world\n",
      "1793971891480 1793971891984\n"
     ]
    }
   ],
   "source": [
    "x = \"hello\"\n",
    "y = x\n",
    "print(x is y)         # x,y指向同意同一个不可修改对象\"hello\"\n",
    "print(id(x),id(y))\n",
    "x = \"world\"           # x引用了新对象\"world\" ，而并没修改对象\"hello\"\n",
    "print(y)              # y仍然引用的是对象\"hello\"\n",
    "print(x)              # x引用的是新对象\"world\" \n",
    "print(id(x),id(y))"
   ]
  },
  {
   "cell_type": "code",
   "execution_count": 19,
   "metadata": {},
   "outputs": [
    {
     "name": "stdout",
     "output_type": "stream",
     "text": [
      "[2, 3]\n",
      "1793972360584\n",
      "[23, 3]\n",
      "1793972360584\n"
     ]
    }
   ],
   "source": [
    "# 无法修改一个tuple对象，比如其元素a[1]的值，但可以修改a[1]指向的可变对象\n",
    "a= (1, [2,3], 4)\n",
    "b = a\n",
    "#a[1] = 23      #错：元祖a的元素是不能被修改的\n",
    "print(a[1])  \n",
    "print(id(a[1]))\n",
    "a[1][0]=23  #a[1]元素是一个list对象，是可以修改的。\n",
    "print(a[1])\n",
    "print(id(a[1]))"
   ]
  },
  {
   "cell_type": "code",
   "execution_count": null,
   "metadata": {},
   "outputs": [],
   "source": []
  }
 ],
 "metadata": {
  "kernelspec": {
   "display_name": "Python 3",
   "language": "python",
   "name": "python3"
  },
  "language_info": {
   "codemirror_mode": {
    "name": "ipython",
    "version": 3
   },
   "file_extension": ".py",
   "mimetype": "text/x-python",
   "name": "python",
   "nbconvert_exporter": "python",
   "pygments_lexer": "ipython3",
   "version": "3.6.8"
  }
 },
 "nbformat": 4,
 "nbformat_minor": 2
}
