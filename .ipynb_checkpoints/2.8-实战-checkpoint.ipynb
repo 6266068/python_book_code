{
 "cells": [
  {
   "cell_type": "markdown",
   "metadata": {},
   "source": [
    "### 1.\t顺序查找"
   ]
  },
  {
   "cell_type": "code",
   "execution_count": 2,
   "metadata": {},
   "outputs": [
    {
     "name": "stdout",
     "output_type": "stream",
     "text": [
      "输入你要查找的数34\n",
      "查找成功！\n"
     ]
    }
   ],
   "source": [
    "# 顺序查找: 要查找一个序列中是否存在某个元素，一般地可以采用遍历的方法查找：\n",
    "arr = [12,46,25,43,58,7,37,5,80,34,105,82]\n",
    "v = int(input(\"输入你要查找的数\"))\n",
    "ok = False\n",
    "for e in arr:          #for遍历arr\n",
    "    if e==v:\n",
    "        ok = True\n",
    "        break\n",
    "if ok:\n",
    "    print('查找成功！')\n",
    "else: \n",
    "    print('查找失败！')\n"
   ]
  },
  {
   "cell_type": "markdown",
   "metadata": {},
   "source": [
    "### 2 二分查找\n",
    "\n",
    "对一个有序序列alist，要查找某个元素item。则可以让item先和alist的中间元素比较：\n",
    "```\n",
    "\t如果相等，则成功\n",
    "\t如果小于中间元素，则在alist的左半区间查找\n",
    "\t如果大于等于中间元素，则在alist的右边半区间查找\n",
    "```"
   ]
  },
  {
   "cell_type": "code",
   "execution_count": 9,
   "metadata": {},
   "outputs": [
    {
     "name": "stdout",
     "output_type": "stream",
     "text": [
      "请输入一个查找的整数：13\n",
      "未找到 13\n"
     ]
    }
   ],
   "source": [
    "alist = [5,7,12,25,34,37,43,46,58,80,82,105]\n",
    "value = int(input(\"请输入一个查找的整数：\"))\n",
    "\n",
    "L = 0                       # 区间左端点\n",
    "H = len(alist)-1              # 区间右端点\n",
    "found = False\n",
    "loc = -1                   #查找的元素的下标\n",
    "while L<=H:                 # 区间[L，H]存在\n",
    "    Middle = (L+H)//2        # Middle指向区间的中点\n",
    "    if alist[Middle] == value:   # 等于Middle指向的元素，找到了！\n",
    "        loc = Middle\n",
    "        break;\n",
    "    else:\n",
    "        if value < alist[Middle]: \n",
    "            H = Middle-1     # 在左区间查找\n",
    "        else:\n",
    "            L = Middle+1     # 在右区间查找\n",
    "            \n",
    "if loc>0:\n",
    "   print(value,\"对应元素的位置是：\",loc)\n",
    "else:\n",
    "    print(\"未找到\",value)"
   ]
  },
  {
   "cell_type": "markdown",
   "metadata": {},
   "source": [
    "### 冒泡排序\n",
    "\n",
    "冒泡排序的思想是对相邻元素比较大小，如果逆序就交换它们。\n",
    "对于一个序列，通过这种两两相邻元素的比较与交换，可以将最大值（或最小值）放在最后一个位置，这一过程称为“一趟冒泡。\n",
    "对于剩余元素构成的序列，再进行“一趟冒泡”，又可以在剩余元素序列中选出一个最大值（或最小值）并放在了剩余元素序列的最终位置（如倒数第二个位置）。重复这个过程，直到剩余1个元素位置。对于n个元素的序列，需要进行n-1趟冒泡。"
   ]
  },
  {
   "cell_type": "code",
   "execution_count": 10,
   "metadata": {},
   "outputs": [
    {
     "name": "stdout",
     "output_type": "stream",
     "text": [
      "[38, 27, 49, 76, 13, 27, 49, 97]\n",
      "[27, 38, 49, 13, 27, 49, 76, 97]\n",
      "[27, 38, 13, 27, 49, 49, 76, 97]\n",
      "[27, 13, 27, 38, 49, 49, 76, 97]\n",
      "[13, 27, 27, 38, 49, 49, 76, 97]\n",
      "[13, 27, 27, 38, 49, 49, 76, 97]\n",
      "[13, 27, 27, 38, 49, 49, 76, 97]\n",
      "[13, 27, 27, 38, 49, 49, 76, 97]\n"
     ]
    }
   ],
   "source": [
    "alist = [49,38,27,97,76,13,27,49]\n",
    "debug = True\n",
    "\n",
    "for i in range(len(alist)-1,0,-1):\n",
    "        for j in range(i):                 #一趟冒泡\n",
    "            if alist[j]>alist[j+1]:\n",
    "                #temp = alist[j]\n",
    "                #alist[j] = alist[j+1]\n",
    "                #alist[j+1] = temp\n",
    "                alist[j],alist[j+1] = alist[j+1],alist[j]  #交换2个元素      \n",
    "        if debug:\n",
    "           print(alist)\n",
    "print(alist)    "
   ]
  },
  {
   "cell_type": "markdown",
   "metadata": {},
   "source": [
    "### Floyd最短路径算法\n",
    "\n",
    "二维矩阵D记录任意2个顶点之间的当前距离,如D[u][v]记录的是顶点u到v的当前距离。\n",
    "二维矩阵P记录任意2个顶点之间的当前距离对应的路径上的倒数第二个顶点(即路径上终点之前的那个顶点)\n",
    "即P[u][v]记录的是u到v的当前路径上的倒数第二个顶点。如u到v的当前路径是\"uskwv\"，则P[u][v]的值就是w。\n",
    "```\n",
    "if  D[u][w]+ D[w][v] < D[u][v] :\n",
    "      D[u][v] =  D[u][w]+ D[w][v]\n",
    "      P[u][v] =  P[w][v]        # P[u][v] =  P[u][w]+ P[w][v]  \n",
    "```"
   ]
  },
  {
   "cell_type": "code",
   "execution_count": 12,
   "metadata": {},
   "outputs": [
    {
     "name": "stdout",
     "output_type": "stream",
     "text": [
      "[0, 2, 6, 4]\n",
      "[100000.0, 0, 3, 100000.0]\n",
      "[7, 100000.0, 0, 1]\n",
      "[5, 100000.0, 12, 0]\n",
      "\n",
      "[0, 0, 0, 0]\n",
      "[1, 1, 1, 1]\n",
      "[2, 2, 2, 2]\n",
      "[3, 3, 3, 3]\n",
      "\n",
      "[0, 2, 5, 4]\n",
      "[9, 0, 3, 4]\n",
      "[6, 8, 0, 1]\n",
      "[5, 7, 10, 0]\n",
      "\n",
      "[0, 0, 1, 0]\n",
      "[3, 1, 1, 2]\n",
      "[3, 0, 2, 2]\n",
      "[3, 0, 1, 3]\n"
     ]
    }
   ],
   "source": [
    "n = 4\n",
    "INFINITY = 100000.0                    #假设这是一个很大的数值\n",
    "\n",
    "D=[[0,2,6,4],                           #距离矩阵\n",
    "   [INFINITY,0,3,INFINITY],\n",
    "   [7,INFINITY,0,1],\n",
    "   [5,INFINITY,12,0]]\n",
    "\n",
    "P = [[0,0,0,0],[0,0,0,0],[0,0,0,0],[0,0,0,0]]    #路径矩阵\n",
    "#初始化路径矩阵，即P[u][v]记录直达路径uv的终点v前面的顶点u\n",
    "for u in range(0,n):\n",
    "    for v in range(0,n):\n",
    "        P[u][v] = u\n",
    "        \n",
    "print(*D,sep = \"\\n\")        # *D是后面函数参数要介绍的“解封参数列表”传递参数方式，\n",
    "                         # sep= \"\\n\"表示每个输出元素之间的分割符是换行符”\\n”\n",
    "print()\n",
    "print(*P,sep = \"\\n\")\n",
    "print()\n",
    "\n",
    "for w in range(0,n):                                     #绕包顶点w\n",
    "    for u in range(0,n):\n",
    "        for v in range(0,n):\n",
    "#其他顶点u、v会不会因为绕道w距离变的更短？\n",
    "            if w!=u and w!=v and D[u][w] + D[w][v] < D[u][v] :                \n",
    "                D[u][v] = D[u][w] + D[w][v] \n",
    "                P[u][v] = P[w][v] \n",
    "                \n",
    "print(*D,sep = \"\\n\")\n",
    "print()\n",
    "print(*P,sep = \"\\n\")"
   ]
  },
  {
   "cell_type": "code",
   "execution_count": 17,
   "metadata": {},
   "outputs": [
    {
     "name": "stdout",
     "output_type": "stream",
     "text": [
      "0 到 1 的逆向路径是: 1,0\n",
      "0 到 2 的逆向路径是: 2,1,0\n",
      "0 到 3 的逆向路径是: 3,0\n",
      "1 到 0 的逆向路径是: 0,3,2,1\n",
      "1 到 2 的逆向路径是: 2,1\n",
      "1 到 3 的逆向路径是: 3,2,1\n",
      "2 到 0 的逆向路径是: 0,3,2\n",
      "2 到 1 的逆向路径是: 1,0,3,2\n",
      "2 到 3 的逆向路径是: 3,2\n",
      "3 到 0 的逆向路径是: 0,3\n",
      "3 到 1 的逆向路径是: 1,0,3\n",
      "3 到 2 的逆向路径是: 2,1,0,3\n"
     ]
    }
   ],
   "source": [
    "# 根据路径矩阵P，对于任何一对顶点u,v，其路径可以从终点倒过来追踪到起点。\n",
    "# 即终点是v，其前一个顶点是 P[u][v]，再前一个顶点是P[u][ P[u][v] ]，...\n",
    "for u in range(0,n):\n",
    "    for v in range(0,n):\n",
    "        if u==v:\n",
    "            continue\n",
    "        print(u,'到',v,'的逆向路径是:',end=' ')\n",
    "        print(v,end= ',')\n",
    "        w = P[u][v]\n",
    "        while w!=u:\n",
    "            print(w,end= ',')\n",
    "            w = P[u][w] \n",
    "        print(u)  \n"
   ]
  },
  {
   "cell_type": "code",
   "execution_count": null,
   "metadata": {},
   "outputs": [],
   "source": []
  }
 ],
 "metadata": {
  "kernelspec": {
   "display_name": "Python 3",
   "language": "python",
   "name": "python3"
  },
  "language_info": {
   "codemirror_mode": {
    "name": "ipython",
    "version": 3
   },
   "file_extension": ".py",
   "mimetype": "text/x-python",
   "name": "python",
   "nbconvert_exporter": "python",
   "pygments_lexer": "ipython3",
   "version": "3.6.8"
  }
 },
 "nbformat": 4,
 "nbformat_minor": 2
}
