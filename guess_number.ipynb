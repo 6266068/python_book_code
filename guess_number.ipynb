{
 "cells": [
  {
   "cell_type": "code",
   "execution_count": null,
   "metadata": {},
   "outputs": [
    {
     "name": "stdout",
     "output_type": "stream",
     "text": [
      "有一个1到100之间的整数，请你猜一猜\n",
      "请输入你猜想的数字:120\n",
      "请输入1到100 之间的整数！\n",
      "请输入你猜想的数字:45\n",
      "你猜测的数字有点大\n"
     ]
    }
   ],
   "source": [
    "secret_numer = 38\n",
    "print(\"有一个1到100之间的整数，请你猜一猜\")\n",
    "while True:\n",
    "    guess = int(input(\"请输入你猜想的数字:\"))\n",
    "    if guess> 100 or guess<1:\n",
    "        print(\"请输入1到100 之间的整数！\")\n",
    "    elif guess==secret_numer:\n",
    "        print(\"恭喜你，猜中了！\")\n",
    "        break\n",
    "    elif guess<secret_numer:\n",
    "        print(\"你猜测的数字有点小！\")\n",
    "    else:\n",
    "        print(\"你猜测的数字有点大\")\n",
    "       "
   ]
  },
  {
   "cell_type": "code",
   "execution_count": null,
   "metadata": {},
   "outputs": [],
   "source": []
  }
 ],
 "metadata": {
  "kernelspec": {
   "display_name": "Python 3",
   "language": "python",
   "name": "python3"
  },
  "language_info": {
   "codemirror_mode": {
    "name": "ipython",
    "version": 3
   },
   "file_extension": ".py",
   "mimetype": "text/x-python",
   "name": "python",
   "nbconvert_exporter": "python",
   "pygments_lexer": "ipython3",
   "version": "3.7.1"
  }
 },
 "nbformat": 4,
 "nbformat_minor": 2
}
