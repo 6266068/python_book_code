{
 "cells": [
  {
   "cell_type": "markdown",
   "metadata": {},
   "source": [
    "##  条件"
   ]
  },
  {
   "cell_type": "code",
   "execution_count": 1,
   "metadata": {},
   "outputs": [
    {
     "name": "stdout",
     "output_type": "stream",
     "text": [
      "请输入学生成绩：67\n",
      "恭喜你!\n",
      "通过了考试。\n"
     ]
    }
   ],
   "source": [
    "score= float(input(\"请输入学生成绩：\"));\n",
    "if score>=60:\n",
    "    print(\"恭喜你!\")\n",
    "    print(\"通过了考试。\")"
   ]
  },
  {
   "cell_type": "code",
   "execution_count": 2,
   "metadata": {},
   "outputs": [
    {
     "ename": "IndentationError",
     "evalue": "expected an indented block (<ipython-input-2-a9be7a7e612e>, line 4)",
     "output_type": "error",
     "traceback": [
      "\u001b[1;36m  File \u001b[1;32m\"<ipython-input-2-a9be7a7e612e>\"\u001b[1;36m, line \u001b[1;32m4\u001b[0m\n\u001b[1;33m    print(\"恭喜你!\")\u001b[0m\n\u001b[1;37m        ^\u001b[0m\n\u001b[1;31mIndentationError\u001b[0m\u001b[1;31m:\u001b[0m expected an indented block\n"
     ]
    }
   ],
   "source": [
    "#if语句没有缩进是语法错误的\n",
    "score = float(input(\"请输入学生成绩：\"));\n",
    "if score>=60:\n",
    "print(\"恭喜你!\")\n",
    "print(\"通过了考试。\")"
   ]
  },
  {
   "cell_type": "code",
   "execution_count": null,
   "metadata": {},
   "outputs": [],
   "source": [
    "#if语句体中语句不具有“一致的”缩进也是错误的\n",
    "score = float(input(\"请输入学生成绩：\"));\n",
    "if score>=60:\n",
    " print(\"恭喜你!\")\n",
    "  print(\"通过了考试。\")"
   ]
  },
  {
   "cell_type": "markdown",
   "metadata": {},
   "source": [
    "**if else**\n",
    "```\n",
    "if 表达式:\n",
    "   程序块1\n",
    "else:\n",
    "   程序块2\n",
    "```"
   ]
  },
  {
   "cell_type": "code",
   "execution_count": 3,
   "metadata": {},
   "outputs": [
    {
     "name": "stdout",
     "output_type": "stream",
     "text": [
      "请输入学生成绩：78\n",
      "恭喜你!\n",
      "通过了考试。\n"
     ]
    }
   ],
   "source": [
    "#if语句还有另外一种形式(if-else)：\n",
    "score= int(input(\"请输入学生成绩：\"));\n",
    "if score>=60:\n",
    "    print(\"恭喜你!\")\n",
    "    print(\"通过了考试。\")\n",
    "else:\n",
    "    print(\"很可惜！\")\n",
    "    print(\"你未通过考试。\")\n",
    "    print(\"继续努力，加油！\")"
   ]
  },
  {
   "cell_type": "markdown",
   "metadata": {},
   "source": [
    "***if-elif-else***\n",
    "```\n",
    "if 表达式1:\n",
    "   程序块1\n",
    "elif 表达式2:\n",
    "   程序块2\n",
    "elif 表达式3:\n",
    "   程序块3.\n",
    "else:\n",
    "   程序块k\n",
    "\n",
    "```"
   ]
  },
  {
   "cell_type": "code",
   "execution_count": 4,
   "metadata": {},
   "outputs": [
    {
     "name": "stdout",
     "output_type": "stream",
     "text": [
      "请输入学生成绩：82\n",
      "良好\n"
     ]
    }
   ],
   "source": [
    "score= int(input(\"请输入学生成绩：\"));\n",
    "if score<60:\n",
    "    print(\"不及格\")\n",
    "elif score<70:\n",
    "    print(\"及格\")\n",
    "elif score<80:\n",
    "    print(\"中等\")\n",
    "elif score<90:\n",
    "    print(\"良好\")\n",
    "else:\n",
    "    print(\"优秀\");"
   ]
  },
  {
   "cell_type": "markdown",
   "metadata": {},
   "source": [
    "## 循环"
   ]
  },
  {
   "cell_type": "markdown",
   "metadata": {},
   "source": [
    "### while\n",
    "\n",
    "```while 表达式:\n",
    "    程序块\n",
    "```\n",
    "\n",
    "当关键字while里的“表达式”为True，就重复执行其中的程序块."
   ]
  },
  {
   "cell_type": "code",
   "execution_count": null,
   "metadata": {},
   "outputs": [],
   "source": [
    "# while循环: 计算1到1000之间的所有整数之和\n",
    "i = 1\n",
    "s = 0\n",
    "while i<=1000:\n",
    "   s = s+i;      #等价于  s += i\n",
    "   i+=1\n",
    "print(s)"
   ]
  },
  {
   "cell_type": "code",
   "execution_count": null,
   "metadata": {},
   "outputs": [],
   "source": [
    "#可以用while语句编写计算学生平均成绩：\n",
    "total_score=0\n",
    "i= 0\n",
    "score = float(input(\"请输入学生成绩：\"))\n",
    "while score>=0:\n",
    "    total_score += score\n",
    "    i += 1\n",
    "    score = float(input(\"请输入学生成绩：\"))\n",
    "    \n",
    "print('平均成绩为：', total_score/i)   "
   ]
  },
  {
   "cell_type": "markdown",
   "metadata": {},
   "source": [
    "### for\n",
    "\n",
    "for用于遍历访问一个容器（如str、list或tuple等容器）对象或可迭代对象的每个元素。\n",
    "\n",
    "```python\n",
    "for  e  in 可迭代对象\n",
    "        对e的处理语句块\n",
    "```\n"
   ]
  },
  {
   "cell_type": "code",
   "execution_count": null,
   "metadata": {},
   "outputs": [],
   "source": [
    "numbers = [23, 41,19,87,67,2,32]\n",
    "sum = 0\n",
    "# 对列表中的每个元素val\n",
    "for val in numbers: \n",
    "   sum = sum+val\n",
    "print(\"The sum is\", sum)   # 输出和sum"
   ]
  },
  {
   "cell_type": "code",
   "execution_count": null,
   "metadata": {},
   "outputs": [],
   "source": [
    "words = ['cat', 'dog', 'book']\n",
    "for w in words:\n",
    "   print(w, len(w))\n",
    "for c in \"world\":\n",
    "   print(c)"
   ]
  },
  {
   "cell_type": "markdown",
   "metadata": {},
   "source": [
    "***可迭代对象***（将在第8章介绍）是可以通过for循环迭代地访问其中的元素的一种对象，比如前面的容器list、tuple、set、dict和字符串str类型的对象都是可迭代对象，上面的例子中通过for可访问一个str对象中的每个字符。例如，内置函数range()可以产生一对整数之间的一个可迭代对象："
   ]
  },
  {
   "cell_type": "code",
   "execution_count": null,
   "metadata": {},
   "outputs": [],
   "source": [
    "for e in range(2,8):\n",
    "  print(e,end=\" \")"
   ]
  },
  {
   "cell_type": "code",
   "execution_count": null,
   "metadata": {},
   "outputs": [],
   "source": [
    "#range可以只传递一个参数，range(n)表示产生的是0,1,2...,n之间的一系列整数\n",
    "x = 3\n",
    "for i in range(3):   # 从 i=0 到 i=2\n",
    "    x += 1      # 等价于 x = x + 1    \n",
    "    print(\"i=\",i,\", x=\",x)\n",
    "    #print (\"i={0}, x={1}\".format(i, x))  # .format是str类型的一个成员函数，用于格式化字符串"
   ]
  },
  {
   "cell_type": "markdown",
   "metadata": {},
   "source": [
    "range()函数的格式是：\n",
    "```\n",
    "range(start, stop[, step])\n",
    "```\n",
    "从start开始，以步长step增量方式，产生介于start和stop之间（但不包含stop）的一系列整数的可迭代对象：\n",
    "```\n",
    "start、start+step、start+step+step、…\n",
    "```"
   ]
  },
  {
   "cell_type": "markdown",
   "metadata": {},
   "source": [
    "### break\n",
    "\n",
    "有时希望在重复执行循环体时，当满足某种条件时，可以用关键字break跳出循环，即不再执行循环体。"
   ]
  },
  {
   "cell_type": "code",
   "execution_count": 5,
   "metadata": {},
   "outputs": [
    {
     "name": "stdout",
     "output_type": "stream",
     "text": [
      "500500\n"
     ]
    }
   ],
   "source": [
    "i = 1\n",
    "s = 0\n",
    "while True:      #条件永远满足\n",
    "   s = s+i;      #等价于  s += i\n",
    "   i+=1\n",
    "   if i>1000:    # i大于1000时，跳出循环体\n",
    "      break;\n",
    "print(s)"
   ]
  },
  {
   "cell_type": "markdown",
   "metadata": {},
   "source": [
    "### continue\n",
    "\n",
    "在循环体中执行时如果遇到continue则会停止执行其后续语句，回到循环开头继续执行循环体。"
   ]
  },
  {
   "cell_type": "code",
   "execution_count": 6,
   "metadata": {},
   "outputs": [
    {
     "name": "stdout",
     "output_type": "stream",
     "text": [
      "The sum is 220\n"
     ]
    }
   ],
   "source": [
    "#计算list中的所有非负数之和\n",
    "numbers = [23, 41,-19,87,-3,67,2,-32]\n",
    "sum = 0\n",
    "\n",
    "for val in numbers:\n",
    "    if val<0:                   \n",
    "        continue          #当val<0时，就回到循环开头\n",
    "    sum += val\n",
    "print(\"The sum is\", sum)   # 输出和sum"
   ]
  },
  {
   "cell_type": "markdown",
   "metadata": {},
   "source": [
    "### else子句"
   ]
  },
  {
   "cell_type": "code",
   "execution_count": 7,
   "metadata": {},
   "outputs": [
    {
     "name": "stdout",
     "output_type": "stream",
     "text": [
      "3\n",
      "1\n",
      "5\n",
      "已经访问了列表alist的所有元素.\n"
     ]
    }
   ],
   "source": [
    "# 循环语句(for或while)都可以在后面跟一个else子句\n",
    "# 当for或while语句不是通过break跳出循环时，在执行完for或while循环后，会执行这个else子句\n",
    "alist = [3, 1, 5]\n",
    "for i in alist:\n",
    "    print(i)\n",
    "else:\n",
    "    print(\"已经访问了列表alist的所有元素.\")"
   ]
  },
  {
   "cell_type": "markdown",
   "metadata": {},
   "source": [
    "### pass语句\n",
    "\n",
    "pass是一个空语句，Python程序有的地方需要一条语句，但是又不希望这个语句执行任何动作，这时可以用pass语句，使得程序不会产生语法错误。或者，编写程序时还没想好代码，可以临时用一个pass作为“占位符”，等以后再补充添加代码语句。"
   ]
  },
  {
   "cell_type": "code",
   "execution_count": 8,
   "metadata": {},
   "outputs": [
    {
     "name": "stdout",
     "output_type": "stream",
     "text": [
      "输入一个成绩：56\n",
      "分数是： 56.0\n"
     ]
    }
   ],
   "source": [
    "score = float(input(\"输入一个成绩：\"))\n",
    "if score <0:\n",
    "    pass   #没有这个pass，程序就会出错\n",
    "else:\n",
    "    print(\"分数是：\", score) "
   ]
  },
  {
   "cell_type": "code",
   "execution_count": null,
   "metadata": {},
   "outputs": [],
   "source": []
  }
 ],
 "metadata": {
  "kernelspec": {
   "display_name": "Python 3",
   "language": "python",
   "name": "python3"
  },
  "language_info": {
   "codemirror_mode": {
    "name": "ipython",
    "version": 3
   },
   "file_extension": ".py",
   "mimetype": "text/x-python",
   "name": "python",
   "nbconvert_exporter": "python",
   "pygments_lexer": "ipython3",
   "version": "3.6.8"
  }
 },
 "nbformat": 4,
 "nbformat_minor": 2
}
