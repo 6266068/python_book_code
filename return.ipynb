{
 "cells": [
  {
   "cell_type": "code",
   "execution_count": 1,
   "metadata": {},
   "outputs": [
    {
     "name": "stdout",
     "output_type": "stream",
     "text": [
      "5\n",
      "5.640000000000001\n"
     ]
    }
   ],
   "source": [
    "def add(x,y):\n",
    "    return x+y\n",
    "\n",
    "print(add(2,3))\n",
    "print(add(2.5,3.14))"
   ]
  },
  {
   "cell_type": "code",
   "execution_count": 4,
   "metadata": {},
   "outputs": [
    {
     "name": "stdout",
     "output_type": "stream",
     "text": [
      "18\n",
      "204\n"
     ]
    }
   ],
   "source": [
    "def sum_all(m,n):\n",
    "    if m>n:\n",
    "        m,n = n,m\n",
    "    \n",
    "    s = 0\n",
    "    i = m\n",
    "    while i<=n:\n",
    "        s+=i\n",
    "        i+=1\n",
    "    return s\n",
    "    \n",
    "\n",
    "print(sum_all(3,6))\n",
    "print(sum_all(-3,20))"
   ]
  },
  {
   "cell_type": "code",
   "execution_count": 5,
   "metadata": {},
   "outputs": [
    {
     "name": "stdout",
     "output_type": "stream",
     "text": [
      "-9 81\n"
     ]
    }
   ],
   "source": [
    "def min_max(a):\n",
    "    m = a[0]\n",
    "    M = a[0]\n",
    "    for e in a:\n",
    "        if e<m:\n",
    "            m =e\n",
    "        if e>M:\n",
    "            M =e\n",
    "    return m,M\n",
    "\n",
    "\n",
    "arr=[34,2, 17,-9,81,33]\n",
    "a,b = min_max(arr)\n",
    "print(a,b)"
   ]
  },
  {
   "cell_type": "code",
   "execution_count": null,
   "metadata": {},
   "outputs": [],
   "source": []
  }
 ],
 "metadata": {
  "kernelspec": {
   "display_name": "Python 3",
   "language": "python",
   "name": "python3"
  },
  "language_info": {
   "codemirror_mode": {
    "name": "ipython",
    "version": 3
   },
   "file_extension": ".py",
   "mimetype": "text/x-python",
   "name": "python",
   "nbconvert_exporter": "python",
   "pygments_lexer": "ipython3",
   "version": "3.7.1"
  }
 },
 "nbformat": 4,
 "nbformat_minor": 2
}
