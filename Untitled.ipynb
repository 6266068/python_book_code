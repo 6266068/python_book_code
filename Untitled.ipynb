{
 "cells": [
  {
   "cell_type": "code",
   "execution_count": 2,
   "metadata": {},
   "outputs": [
    {
     "name": "stdout",
     "output_type": "stream",
     "text": [
      "a=: 37   二进制： 0b100101\n",
      "b=: 22   二进制： 0b10110\n",
      "a&b=: 4   二进制： 0b100\n",
      "a|b=: 55   二进制： 0b110111\n",
      "a^b=: 51   二进制： 0b110011\n",
      "~b=: -23   二进制： -0b10111\n",
      "b<<2: 88   二进制： 0b1011000\n",
      "b>>2: 5   二进制： 0b101\n"
     ]
    }
   ],
   "source": [
    "a = 37            # 37 = 0010 0101\n",
    "b = 22            # 22 = 0001 0110 \n",
    "c = 0\n",
    "print('a=:',a,\"  二进制：\",bin(a))\n",
    "print('b=:',b,\"  二进制：\",bin(b))\n",
    "print('a&b=:',a&b,\"  二进制：\",bin(a&b))\n",
    "print('a|b=:',a|b,\"  二进制：\",bin(a|b))\n",
    "print('a^b=:',a^b,\"  二进制：\",bin(a^b))\n",
    "print('~b=:',~b,\"  二进制：\",bin(~b))\n",
    "print('b<<2:',b<<2,\"  二进制：\",bin(b<<2))\n",
    "print('b>>2:',b>>2,\"  二进制：\",bin(b>>2))\n"
   ]
  },
  {
   "cell_type": "code",
   "execution_count": null,
   "metadata": {},
   "outputs": [],
   "source": []
  }
 ],
 "metadata": {
  "kernelspec": {
   "display_name": "Python 3",
   "language": "python",
   "name": "python3"
  },
  "language_info": {
   "codemirror_mode": {
    "name": "ipython",
    "version": 3
   },
   "file_extension": ".py",
   "mimetype": "text/x-python",
   "name": "python",
   "nbconvert_exporter": "python",
   "pygments_lexer": "ipython3",
   "version": "3.7.1"
  }
 },
 "nbformat": 4,
 "nbformat_minor": 2
}
