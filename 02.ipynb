{
 "cells": [
  {
   "cell_type": "code",
   "execution_count": 26,
   "metadata": {},
   "outputs": [
    {
     "name": "stdout",
     "output_type": "stream",
     "text": [
      "My name on B站 and 微博 is 'hw-dong'\n",
      "My name on B站 and 微博 is \"hw-dong\"\n",
      " '教小白精通编程博客'的网址\n",
      "https://a.hwdong.com\n",
      "各种编程语言如python、C++\n",
      "\n"
     ]
    }
   ],
   "source": [
    "print(\"My name on B站 and 微博 is 'hw-dong'\")\n",
    "print('My name on B站 and 微博 is \"hw-dong\"')\n",
    "print(''' '教小白精通编程博客'的网址\n",
    "https://a.hwdong.com\n",
    "各种编程语言如python、C++\n",
    "''')"
   ]
  },
  {
   "cell_type": "code",
   "execution_count": 27,
   "metadata": {},
   "outputs": [
    {
     "ename": "SyntaxError",
     "evalue": "invalid syntax (<ipython-input-27-0a9a69f09d84>, line 1)",
     "output_type": "error",
     "traceback": [
      "\u001b[1;36m  File \u001b[1;32m\"<ipython-input-27-0a9a69f09d84>\"\u001b[1;36m, line \u001b[1;32m1\u001b[0m\n\u001b[1;33m    print('My name on B站 and 微博 is 'hw-dong'')\u001b[0m\n\u001b[1;37m                                     ^\u001b[0m\n\u001b[1;31mSyntaxError\u001b[0m\u001b[1;31m:\u001b[0m invalid syntax\n"
     ]
    }
   ],
   "source": [
    "print('My name on B站 and 微博 is 'hw-dong'')"
   ]
  },
  {
   "cell_type": "code",
   "execution_count": 28,
   "metadata": {},
   "outputs": [
    {
     "ename": "TypeError",
     "evalue": "'str' object does not support item assignment",
     "output_type": "error",
     "traceback": [
      "\u001b[1;31m---------------------------------------------------------------------------\u001b[0m",
      "\u001b[1;31mTypeError\u001b[0m                                 Traceback (most recent call last)",
      "\u001b[1;32m<ipython-input-28-4daa3a265db8>\u001b[0m in \u001b[0;36m<module>\u001b[1;34m\u001b[0m\n\u001b[0;32m      1\u001b[0m \u001b[0ms\u001b[0m  \u001b[1;33m=\u001b[0m \u001b[1;34m'hello world'\u001b[0m\u001b[1;33m\u001b[0m\u001b[1;33m\u001b[0m\u001b[0m\n\u001b[1;32m----> 2\u001b[1;33m \u001b[0ms\u001b[0m\u001b[1;33m[\u001b[0m\u001b[1;36m1\u001b[0m\u001b[1;33m]\u001b[0m \u001b[1;33m=\u001b[0m \u001b[1;34m'E'\u001b[0m\u001b[1;33m\u001b[0m\u001b[1;33m\u001b[0m\u001b[0m\n\u001b[0m",
      "\u001b[1;31mTypeError\u001b[0m: 'str' object does not support item assignment"
     ]
    }
   ],
   "source": [
    "s  = 'hello world'\n",
    "s[1] = 'E'     \n"
   ]
  },
  {
   "cell_type": "code",
   "execution_count": 31,
   "metadata": {},
   "outputs": [
    {
     "name": "stdout",
     "output_type": "stream",
     "text": [
      "<class 'list'>\n",
      "[2, 3.14, True, [3, 6, 9], 'python']\n",
      "2\n",
      "[3, 6, 9]\n"
     ]
    }
   ],
   "source": [
    "my_list =[2, 3.14,True,[3,6,9],'python']\n",
    "print(type(my_list))  #打印my_list的类型，即list类型\n",
    "print(my_list)\n",
    "print(my_list[0])\n",
    "print(my_list[3])"
   ]
  },
  {
   "cell_type": "code",
   "execution_count": 30,
   "metadata": {},
   "outputs": [
    {
     "name": "stdout",
     "output_type": "stream",
     "text": [
      "[3.14, True, [3, 6, 9]]\n",
      "[True, [3, 6, 9], 'python']\n",
      "[2, 3.14, True, [3, 6, 9]]\n",
      "[2, 3.14, True, [3, 6, 9], 'python']\n"
     ]
    }
   ],
   "source": [
    "print(my_list[1:4])  #从第2个到第5个，不包含第5个\n",
    "print(my_list[2:])   #起始下标为2，没有结束下标，表示从起始下标之后的所有元素\n",
    "print(my_list[:4])   #没有起始下标，表示起始下标默认为0\n",
    "print(my_list[:])    #没有起始和结束下标，表示所有元素"
   ]
  },
  {
   "cell_type": "code",
   "execution_count": 32,
   "metadata": {},
   "outputs": [
    {
     "name": "stdout",
     "output_type": "stream",
     "text": [
      "[2, 3.14, True, [3, 6, 9], 'c++']\n"
     ]
    }
   ],
   "source": [
    "my_list[4]='c++'\n",
    "print(my_list)"
   ]
  },
  {
   "cell_type": "code",
   "execution_count": 33,
   "metadata": {},
   "outputs": [
    {
     "name": "stdout",
     "output_type": "stream",
     "text": [
      "[2, 10, 25, [3, 6, 9], 'c++']\n"
     ]
    }
   ],
   "source": [
    "my_list[1:3]=[10,25]  \n",
    "print(my_list)"
   ]
  },
  {
   "cell_type": "code",
   "execution_count": 34,
   "metadata": {},
   "outputs": [
    {
     "name": "stdout",
     "output_type": "stream",
     "text": [
      "[2, 10, 'c++']\n"
     ]
    }
   ],
   "source": [
    "my_list[2:4]=[]      #相当于删除了[2:4]之间的元素，不包括下标4的元素\n",
    "print(my_list)"
   ]
  },
  {
   "cell_type": "code",
   "execution_count": 35,
   "metadata": {},
   "outputs": [
    {
     "ename": "TypeError",
     "evalue": "can only assign an iterable",
     "output_type": "error",
     "traceback": [
      "\u001b[1;31m---------------------------------------------------------------------------\u001b[0m",
      "\u001b[1;31mTypeError\u001b[0m                                 Traceback (most recent call last)",
      "\u001b[1;32m<ipython-input-35-6565d37d98ad>\u001b[0m in \u001b[0;36m<module>\u001b[1;34m\u001b[0m\n\u001b[1;32m----> 1\u001b[1;33m \u001b[0mmy_list\u001b[0m\u001b[1;33m[\u001b[0m\u001b[1;36m1\u001b[0m\u001b[1;33m:\u001b[0m\u001b[1;36m3\u001b[0m\u001b[1;33m]\u001b[0m\u001b[1;33m=\u001b[0m \u001b[1;36m5\u001b[0m\u001b[1;33m\u001b[0m\u001b[1;33m\u001b[0m\u001b[0m\n\u001b[0m",
      "\u001b[1;31mTypeError\u001b[0m: can only assign an iterable"
     ]
    }
   ],
   "source": [
    "my_list[1:3]= 5"
   ]
  },
  {
   "cell_type": "code",
   "execution_count": 41,
   "metadata": {},
   "outputs": [
    {
     "name": "stdout",
     "output_type": "stream",
     "text": [
      "[2, 10, 'hw-dong']\n",
      "[10]\n",
      "[2, 3, 6, 'hi']\n"
     ]
    }
   ],
   "source": [
    "my_list[-1] = \"hw-dong\"\n",
    "print(my_list)\n",
    "print(my_list[-2:-1]) \n",
    "my_list[-2:] = [3,6,'hi']\n",
    "print(my_list)"
   ]
  },
  {
   "cell_type": "code",
   "execution_count": 42,
   "metadata": {},
   "outputs": [
    {
     "ename": "IndexError",
     "evalue": "list index out of range",
     "output_type": "error",
     "traceback": [
      "\u001b[1;31m---------------------------------------------------------------------------\u001b[0m",
      "\u001b[1;31mIndexError\u001b[0m                                Traceback (most recent call last)",
      "\u001b[1;32m<ipython-input-42-46e399b7fb0a>\u001b[0m in \u001b[0;36m<module>\u001b[1;34m\u001b[0m\n\u001b[1;32m----> 1\u001b[1;33m \u001b[0mprint\u001b[0m\u001b[1;33m(\u001b[0m\u001b[0mmy_list\u001b[0m\u001b[1;33m[\u001b[0m\u001b[1;36m4\u001b[0m\u001b[1;33m]\u001b[0m\u001b[1;33m)\u001b[0m\u001b[1;33m\u001b[0m\u001b[1;33m\u001b[0m\u001b[0m\n\u001b[0m\u001b[0;32m      2\u001b[0m \u001b[0mprint\u001b[0m\u001b[1;33m(\u001b[0m\u001b[0mmy_list\u001b[0m\u001b[1;33m[\u001b[0m\u001b[1;33m-\u001b[0m\u001b[1;36m6\u001b[0m\u001b[1;33m]\u001b[0m\u001b[1;33m)\u001b[0m\u001b[1;33m\u001b[0m\u001b[1;33m\u001b[0m\u001b[0m\n",
      "\u001b[1;31mIndexError\u001b[0m: list index out of range"
     ]
    }
   ],
   "source": [
    "print(my_list[4])\n",
    "print(my_list[-6])"
   ]
  },
  {
   "cell_type": "code",
   "execution_count": 43,
   "metadata": {},
   "outputs": [
    {
     "name": "stdout",
     "output_type": "stream",
     "text": [
      "<class 'tuple'>\n"
     ]
    }
   ],
   "source": [
    "t = ('python',[2,5],37,3.14,\"https://a.hwdong.com\")\n",
    "print(type(t))"
   ]
  },
  {
   "cell_type": "code",
   "execution_count": 44,
   "metadata": {},
   "outputs": [
    {
     "name": "stdout",
     "output_type": "stream",
     "text": [
      "37\n",
      "('python', [2, 5], 37)\n",
      "('python', [2, 5], 37, 3.14)\n",
      "([2, 5], 37, 3.14, 'https://a.hwdong.com')\n"
     ]
    }
   ],
   "source": [
    "print(t[2])\n",
    "print(t[0:3])\n",
    "print(t[:4])\n",
    "print(t[-4:])"
   ]
  },
  {
   "cell_type": "code",
   "execution_count": 49,
   "metadata": {},
   "outputs": [
    {
     "name": "stdout",
     "output_type": "stream",
     "text": [
      "0b1010101010101010101010\n"
     ]
    },
    {
     "data": {
      "text/plain": [
       "str"
      ]
     },
     "execution_count": 49,
     "metadata": {},
     "output_type": "execute_result"
    }
   ],
   "source": [
    "#?bin\n",
    "print(bin(2796202))\n",
    "type(bin(2796202))"
   ]
  },
  {
   "cell_type": "code",
   "execution_count": 2,
   "metadata": {},
   "outputs": [
    {
     "name": "stdout",
     "output_type": "stream",
     "text": [
      "140719179153328\n",
      "140719179153328\n",
      "2085289931056\n",
      "2085289931408\n",
      "True\n",
      "True\n",
      "True\n",
      "False\n"
     ]
    }
   ],
   "source": [
    "print(id(100))\n",
    "print(id(100))\n",
    "print(id(1000))\n",
    "print(id(1000))\n",
    "a=100\n",
    "b=100\n",
    "c=1000\n",
    "d=1000\n",
    "print(a==b)\n",
    "print(a is b)\n",
    "print(c==d)\n",
    "print(c is d)"
   ]
  },
  {
   "cell_type": "code",
   "execution_count": 14,
   "metadata": {},
   "outputs": [
    {
     "data": {
      "text/plain": [
       "1"
      ]
     },
     "execution_count": 14,
     "metadata": {},
     "output_type": "execute_result"
    }
   ],
   "source": [
    "\"I have \" + str(5) + \" books\"\n",
    "\"I said \" + (\"Hello \" * 2) + \"1 world\"\n",
    "#\"The correct answer to this question is: \" + 2\n",
    "True+False"
   ]
  },
  {
   "cell_type": "code",
   "execution_count": 25,
   "metadata": {
    "scrolled": true
   },
   "outputs": [
    {
     "name": "stdout",
     "output_type": "stream",
     "text": [
      "[True, 3.14]\n",
      "[True, 3.14]\n",
      "[True, 3.14]\n",
      "[1, [2, 3], 'he', True, 'py', 3.14]\n",
      "[1, [2, 3], 4, 5, True, 'py', 3.14]\n",
      "[4, 5, True, 'py', 3.14]\n"
     ]
    }
   ],
   "source": [
    "s = 'he'\n",
    "pi = 3.14\n",
    "alist = [1,[2,3],s,True, pi]\n",
    "print(alist[-2:])  #\n",
    "print(alist[len(alist)-2:len(alist)])\n",
    "print(alist[3:5])\n",
    "alist[-1:-1] = ['py']\n",
    "print(alist)\n",
    "alist[2:3] = [4,5]\n",
    "print(alist)\n",
    "alist[0:2] = []\n",
    "print(alist)"
   ]
  },
  {
   "cell_type": "code",
   "execution_count": null,
   "metadata": {},
   "outputs": [],
   "source": []
  }
 ],
 "metadata": {
  "kernelspec": {
   "display_name": "Python 3",
   "language": "python",
   "name": "python3"
  },
  "language_info": {
   "codemirror_mode": {
    "name": "ipython",
    "version": 3
   },
   "file_extension": ".py",
   "mimetype": "text/x-python",
   "name": "python",
   "nbconvert_exporter": "python",
   "pygments_lexer": "ipython3",
   "version": "3.7.1"
  }
 },
 "nbformat": 4,
 "nbformat_minor": 2
}
