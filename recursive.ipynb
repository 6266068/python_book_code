{
 "cells": [
  {
   "cell_type": "code",
   "execution_count": 4,
   "metadata": {},
   "outputs": [],
   "source": [
    "def fact(n):\n",
    "    if n==1:             #如果n等于1，就直接返回值1\n",
    "        return 1\n",
    "    print(n,\"*\",\"fact(\",n-1,\")\")\n",
    "    return n * fact(n - 1)  #如果n大于1，就是n和fact(n-1)的乘积"
   ]
  },
  {
   "cell_type": "code",
   "execution_count": 5,
   "metadata": {},
   "outputs": [
    {
     "name": "stdout",
     "output_type": "stream",
     "text": [
      "4 * fact( 3 )\n",
      "3 * fact( 2 )\n",
      "2 * fact( 1 )\n"
     ]
    },
    {
     "data": {
      "text/plain": [
       "24"
      ]
     },
     "execution_count": 5,
     "metadata": {},
     "output_type": "execute_result"
    }
   ],
   "source": [
    "fact(4)"
   ]
  },
  {
   "cell_type": "code",
   "execution_count": 12,
   "metadata": {},
   "outputs": [],
   "source": [
    "def fib(n):\n",
    "    if n<2 :\n",
    "        return 1\n",
    "    else:\n",
    "        #print(\"fib(\",n,\")=\",\"fib(\",n-1,\")\",\"+\",\"fib(\",n-2,\")\")\n",
    "        return fib(n-1)+fib(n-2)\n"
   ]
  },
  {
   "cell_type": "code",
   "execution_count": 10,
   "metadata": {},
   "outputs": [
    {
     "name": "stdout",
     "output_type": "stream",
     "text": [
      "fib( 4 )= fib( 3 ) + fib( 2 )\n",
      "fib( 3 )= fib( 2 ) + fib( 1 )\n",
      "fib( 2 )= fib( 1 ) + fib( 0 )\n",
      "fib( 2 )= fib( 1 ) + fib( 0 )\n"
     ]
    },
    {
     "data": {
      "text/plain": [
       "5"
      ]
     },
     "execution_count": 10,
     "metadata": {},
     "output_type": "execute_result"
    }
   ],
   "source": [
    "fib(4)"
   ]
  },
  {
   "cell_type": "code",
   "execution_count": 13,
   "metadata": {},
   "outputs": [
    {
     "name": "stdout",
     "output_type": "stream",
     "text": [
      "1,1,2,3,5,8,13,21,"
     ]
    }
   ],
   "source": [
    "for i in range(8):    \n",
    "    print(fib(i),end = ',')"
   ]
  },
  {
   "cell_type": "code",
   "execution_count": 14,
   "metadata": {},
   "outputs": [],
   "source": [
    "def gcd(m,n):\n",
    "    if n==0 :\n",
    "        return m\n",
    "    else:\n",
    "        return gcd(n,m%n)"
   ]
  },
  {
   "cell_type": "code",
   "execution_count": 15,
   "metadata": {},
   "outputs": [
    {
     "data": {
      "text/plain": [
       "9"
      ]
     },
     "execution_count": 15,
     "metadata": {},
     "output_type": "execute_result"
    }
   ],
   "source": [
    "gcd(72,27)"
   ]
  },
  {
   "cell_type": "code",
   "execution_count": 16,
   "metadata": {},
   "outputs": [
    {
     "data": {
      "text/plain": [
       "12"
      ]
     },
     "execution_count": 16,
     "metadata": {},
     "output_type": "execute_result"
    }
   ],
   "source": [
    "gcd(24,36)"
   ]
  },
  {
   "cell_type": "code",
   "execution_count": 22,
   "metadata": {},
   "outputs": [
    {
     "name": "stdout",
     "output_type": "stream",
     "text": [
      "10\n",
      "-1\n"
     ]
    }
   ],
   "source": [
    "def binary_search(alist,low,high,value):\n",
    "    if low>high:\n",
    "        return -1\n",
    "    mid = (low+high)//2\n",
    "    if value==alist[mid]:\n",
    "        return mid\n",
    "    elif value < alist[mid]:\n",
    "        return binary_search(alist,low,mid-1,value)\n",
    "    else:\n",
    "        return binary_search(alist,mid+1,high,value)\n",
    "\n",
    "a= [5,7,12,25,34,37,43,46,58,80,82,105]\n",
    "print(binary_search(a,0,len(a)-1,82))   \n",
    "print(binary_search(a,0,len(a)-1,35)) "
   ]
  },
  {
   "cell_type": "code",
   "execution_count": 25,
   "metadata": {},
   "outputs": [
    {
     "name": "stdout",
     "output_type": "stream",
     "text": [
      "直接将 1 从 A 移到 C\n",
      "直接将 2 从 A 移到 B\n",
      "直接将 1 从 C 移到 B\n",
      "直接将 3 从 A 移到 C\n",
      "直接将 1 从 B 移到 A\n",
      "直接将 2 从 B 移到 C\n",
      "直接将 1 从 A 移到 C\n"
     ]
    }
   ],
   "source": [
    "def moveDisk(i,x,y):\n",
    "    print(\"直接将\",i,\"从\",x,\"移到\",y)\n",
    "    \n",
    "def move(n,a,b,c):\n",
    "    if n==1:\n",
    "        moveDisk(n,a,c)\n",
    "        return\n",
    "    move(n-1,a,c,b)\n",
    "    moveDisk(n,a,c)\n",
    "    move(n-1,b,a,c)\n",
    "    \n",
    "move(3,'A','B','C')"
   ]
  },
  {
   "cell_type": "code",
   "execution_count": 26,
   "metadata": {},
   "outputs": [
    {
     "name": "stdout",
     "output_type": "stream",
     "text": [
      "直接将 1 从 A 移到 C\n",
      "直接将 2 从 A 移到 B\n",
      "直接将 1 从 C 移到 B\n",
      "直接将 3 从 A 移到 C\n",
      "直接将 1 从 B 移到 A\n",
      "直接将 2 从 B 移到 C\n",
      "直接将 1 从 A 移到 C\n",
      "直接将 4 从 A 移到 B\n",
      "直接将 1 从 C 移到 B\n",
      "直接将 2 从 C 移到 A\n",
      "直接将 1 从 B 移到 A\n",
      "直接将 3 从 C 移到 B\n",
      "直接将 1 从 A 移到 C\n",
      "直接将 2 从 A 移到 B\n",
      "直接将 1 从 C 移到 B\n",
      "直接将 5 从 A 移到 C\n",
      "直接将 1 从 B 移到 A\n",
      "直接将 2 从 B 移到 C\n",
      "直接将 1 从 A 移到 C\n",
      "直接将 3 从 B 移到 A\n",
      "直接将 1 从 C 移到 B\n",
      "直接将 2 从 C 移到 A\n",
      "直接将 1 从 B 移到 A\n",
      "直接将 4 从 B 移到 C\n",
      "直接将 1 从 A 移到 C\n",
      "直接将 2 从 A 移到 B\n",
      "直接将 1 从 C 移到 B\n",
      "直接将 3 从 A 移到 C\n",
      "直接将 1 从 B 移到 A\n",
      "直接将 2 从 B 移到 C\n",
      "直接将 1 从 A 移到 C\n"
     ]
    }
   ],
   "source": [
    "move(5,'A','B','C')"
   ]
  },
  {
   "cell_type": "code",
   "execution_count": 33,
   "metadata": {},
   "outputs": [
    {
     "name": "stdout",
     "output_type": "stream",
     "text": [
      "[13, 38, 27, 49, 76, 97, 65, 49]\n",
      "[13, 38, 27, 49, 76, 97, 65, 49]\n",
      "[13, 27, 38, 49, 76, 97, 65, 49]\n",
      "[13, 27, 38, 49, 76, 97, 65, 49]\n",
      "[13, 27, 38, 49, 65, 49, 76, 97]\n",
      "[13, 27, 38, 49, 49, 65, 76, 97]\n",
      "[13, 27, 38, 49, 49, 65, 76, 97]\n",
      "[13, 27, 38, 49, 49, 65, 76, 97]\n",
      "[13, 27, 38, 49, 49, 65, 76, 97]\n"
     ]
    }
   ],
   "source": [
    "def partition(arr,low,high):\n",
    "    value = arr[low]\n",
    "    L = low+1\n",
    "    R = high\n",
    "    while L<=R:\n",
    "        while L<=R and arr[L]<=value :\n",
    "            L +=1\n",
    "        while L<=R and arr[R]>=value :\n",
    "            R -=1\n",
    "        if L>R:\n",
    "            break\n",
    "        else:\n",
    "            arr[L],arr[R]= arr[R],arr[L]\n",
    "        \n",
    "    arr[low],arr[R]= arr[R],arr[low] \n",
    "    return R\n",
    "    \n",
    "def qsort(arr,low,high):\n",
    "    if low>high:\n",
    "        return\n",
    "    pivot = partition(arr,low,high)\n",
    "    print(arr)\n",
    "    qsort(arr,low,pivot-1)\n",
    "    qsort(arr,pivot+1,high)\n",
    "   \n",
    "\n",
    "a = [49,38,65,97,76,13,27,49]\n",
    "qsort(a,0,len(a)-1)\n",
    "print(a)\n"
   ]
  },
  {
   "cell_type": "code",
   "execution_count": null,
   "metadata": {},
   "outputs": [],
   "source": []
  }
 ],
 "metadata": {
  "kernelspec": {
   "display_name": "Python 3",
   "language": "python",
   "name": "python3"
  },
  "language_info": {
   "codemirror_mode": {
    "name": "ipython",
    "version": 3
   },
   "file_extension": ".py",
   "mimetype": "text/x-python",
   "name": "python",
   "nbconvert_exporter": "python",
   "pygments_lexer": "ipython3",
   "version": "3.7.1"
  }
 },
 "nbformat": 4,
 "nbformat_minor": 2
}
