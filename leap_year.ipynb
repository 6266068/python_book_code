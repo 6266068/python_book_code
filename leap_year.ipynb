{
 "cells": [
  {
   "cell_type": "code",
   "execution_count": 6,
   "metadata": {},
   "outputs": [
    {
     "name": "stdout",
     "output_type": "stream",
     "text": [
      "请输入一个年份：1998\n",
      "1998 不是一个闰年\n"
     ]
    }
   ],
   "source": [
    "year= int(input(\"请输入一个年份：\"))\n",
    "if year%4==0:\n",
    "    if year%400==0:\n",
    "        print(year,\"是一个闰年\")\n",
    "    elif  year%100==0:\n",
    "        print(year,\"不是一个闰年\")\n",
    "    else:\n",
    "        print(year,\"是一个闰年\")\n",
    "else:\n",
    "    print(year,\"不是一个闰年\")"
   ]
  },
  {
   "cell_type": "code",
   "execution_count": 10,
   "metadata": {},
   "outputs": [
    {
     "name": "stdout",
     "output_type": "stream",
     "text": [
      "请输入一个年份：1998\n",
      "1998 不是一个闰年\n"
     ]
    }
   ],
   "source": [
    "year= int(input(\"请输入一个年份：\"))\n",
    "if year%400==0:\n",
    "     print(year,\"是一个闰年\")\n",
    "elif year%100==0:\n",
    "    print(year,\"不是一个闰年\")\n",
    "elif year%4==0:\n",
    "     print(year,\"是一个闰年\")\n",
    "else:\n",
    "    print(year,\"不是一个闰年\")"
   ]
  },
  {
   "cell_type": "code",
   "execution_count": 14,
   "metadata": {},
   "outputs": [
    {
     "name": "stdout",
     "output_type": "stream",
     "text": [
      "请输入一个年份：1998\n",
      "1998 不是一个闰年\n"
     ]
    }
   ],
   "source": [
    "year= int(input(\"请输入一个年份：\"))\n",
    "if year%400==0:\n",
    "     print(year,\"是一个闰年\")\n",
    "elif year%4==0 and  year%100!=0:\n",
    "    print(year,\"是一个闰年\")\n",
    "else:\n",
    "    print(year,\"不是一个闰年\")"
   ]
  },
  {
   "cell_type": "code",
   "execution_count": 20,
   "metadata": {},
   "outputs": [
    {
     "name": "stdout",
     "output_type": "stream",
     "text": [
      "请输入一个年份：1996\n",
      "1996 是一个闰年\n"
     ]
    }
   ],
   "source": [
    "year= int(input(\"请输入一个年份：\"))\n",
    "if (year%400==0) or ((year%4==0) and  (year%100!=0)):\n",
    "     print(year,\"是一个闰年\")\n",
    "else:\n",
    "    print(year,\"不是一个闰年\")"
   ]
  },
  {
   "cell_type": "code",
   "execution_count": null,
   "metadata": {},
   "outputs": [],
   "source": [
    "1998"
   ]
  }
 ],
 "metadata": {
  "kernelspec": {
   "display_name": "Python 3",
   "language": "python",
   "name": "python3"
  },
  "language_info": {
   "codemirror_mode": {
    "name": "ipython",
    "version": 3
   },
   "file_extension": ".py",
   "mimetype": "text/x-python",
   "name": "python",
   "nbconvert_exporter": "python",
   "pygments_lexer": "ipython3",
   "version": "3.7.1"
  }
 },
 "nbformat": 4,
 "nbformat_minor": 2
}
