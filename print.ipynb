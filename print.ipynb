{
 "cells": [
  {
   "cell_type": "markdown",
   "metadata": {},
   "source": [
    "## print()函数\n",
    "\n",
    "函数： 命名的一组语句（**程序块**）\n",
    "\n",
    "内置函数（自带的函数）\n",
    "\n",
    "传递给函数的数据称为“**实际参数**”\n",
    "\n",
    "print()函数由一个**sep**关键字参数。  分割字符串\n",
    "\n",
    "print()函数由一个**end**关键字参数。  结束字符串\n",
    "\n",
    "\\n转义字符表示换行符\n",
    "\n",
    "\\t转义字符表示制表符"
   ]
  },
  {
   "cell_type": "code",
   "execution_count": 15,
   "metadata": {},
   "outputs": [
    {
     "name": "stdout",
     "output_type": "stream",
     "text": [
      "hello world\n",
      "3.14\n",
      "5\n",
      "2+3\n"
     ]
    }
   ],
   "source": [
    "print(\"hello world\")\n",
    "print(3.14)\n",
    "print(2+3)\n",
    "print('2+3')"
   ]
  },
  {
   "cell_type": "code",
   "execution_count": 6,
   "metadata": {},
   "outputs": [
    {
     "name": "stdout",
     "output_type": "stream",
     "text": [
      "hello world 3.14 5 2+3\n"
     ]
    }
   ],
   "source": [
    "print(\"hello world\",3.14,2+3,'2+3')"
   ]
  },
  {
   "cell_type": "code",
   "execution_count": 8,
   "metadata": {},
   "outputs": [
    {
     "name": "stdout",
     "output_type": "stream",
     "text": [
      "hello world,---#3.14,---#5,---#2+3\n"
     ]
    }
   ],
   "source": [
    "print(\"hello world\",3.14,2+3,'2+3',sep = ',---#')"
   ]
  },
  {
   "cell_type": "code",
   "execution_count": 14,
   "metadata": {},
   "outputs": [
    {
     "name": "stdout",
     "output_type": "stream",
     "text": [
      "hello world,3.14\t5---,2+3\n"
     ]
    }
   ],
   "source": [
    "print(\"hello world\",end=',')\n",
    "print(3.14,end='\\t')\n",
    "print(2+3,end='---,')\n",
    "print('2+3',end='\\n')"
   ]
  },
  {
   "cell_type": "code",
   "execution_count": null,
   "metadata": {},
   "outputs": [],
   "source": []
  }
 ],
 "metadata": {
  "kernelspec": {
   "display_name": "Python 3",
   "language": "python",
   "name": "python3"
  },
  "language_info": {
   "codemirror_mode": {
    "name": "ipython",
    "version": 3
   },
   "file_extension": ".py",
   "mimetype": "text/x-python",
   "name": "python",
   "nbconvert_exporter": "python",
   "pygments_lexer": "ipython3",
   "version": "3.7.1"
  }
 },
 "nbformat": 4,
 "nbformat_minor": 2
}
