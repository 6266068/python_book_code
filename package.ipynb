{
 "cells": [
  {
   "cell_type": "code",
   "execution_count": null,
   "metadata": {},
   "outputs": [],
   "source": [
    "import sys\n",
    "print(sys.path)\n",
    "sys.path.append(\"D:/\")\n",
    "print(sys.path)"
   ]
  },
  {
   "cell_type": "code",
   "execution_count": null,
   "metadata": {},
   "outputs": [],
   "source": [
    "import myProj.hello as he,myProj.hi\n",
    "he.hello(\"Li Ping\")\n",
    "myProj.hi.welcome(\"shanghai\")"
   ]
  },
  {
   "cell_type": "code",
   "execution_count": null,
   "metadata": {},
   "outputs": [],
   "source": [
    "from myProj import *\n",
    "hello.hello(\"Li Ping\")\n",
    "hi.welcome(\"shanghai\")"
   ]
  },
  {
   "cell_type": "code",
   "execution_count": 9,
   "metadata": {},
   "outputs": [
    {
     "name": "stdout",
     "output_type": "stream",
     "text": [
      "['Li Ping', 'Wang Hao', 'Zhang Ping']\n"
     ]
    }
   ],
   "source": [
    "import sys\n",
    "sys.path.append(\"D:/\")\n",
    "from myProj.hello import f\n",
    "import myProj\n",
    "print(myProj.NAMES)"
   ]
  },
  {
   "cell_type": "code",
   "execution_count": 2,
   "metadata": {},
   "outputs": [
    {
     "name": "stdout",
     "output_type": "stream",
     "text": [
      "hello, Li Ping\n",
      "hi,welcome to  shanghai\n"
     ]
    }
   ],
   "source": [
    "import sys\n",
    "sys.path.append(\"D:/\")\n",
    "import myProj\n",
    "myProj.hello.hello(\"Li Ping\")\n",
    "myProj.hi.welcome(\"shanghai\")"
   ]
  },
  {
   "cell_type": "code",
   "execution_count": null,
   "metadata": {},
   "outputs": [],
   "source": []
  }
 ],
 "metadata": {
  "kernelspec": {
   "display_name": "Python 3",
   "language": "python",
   "name": "python3"
  },
  "language_info": {
   "codemirror_mode": {
    "name": "ipython",
    "version": 3
   },
   "file_extension": ".py",
   "mimetype": "text/x-python",
   "name": "python",
   "nbconvert_exporter": "python",
   "pygments_lexer": "ipython3",
   "version": "3.7.1"
  }
 },
 "nbformat": 4,
 "nbformat_minor": 2
}
